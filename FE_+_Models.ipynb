{
  "cells": [
    {
      "cell_type": "markdown",
      "metadata": {
        "id": "Shor7DawO5sw"
      },
      "source": [
        "Importing libraries"
      ]
    },
    {
      "cell_type": "code",
      "execution_count": 1,
      "metadata": {
        "colab": {
          "base_uri": "https://localhost:8080/"
        },
        "id": "bcCd2wdZJ1Iu",
        "outputId": "b07939dc-4918-4349-918f-1a3cc5bd1369"
      },
      "outputs": [
        {
          "output_type": "stream",
          "name": "stdout",
          "text": [
            "Mounted at /content/drive\n"
          ]
        }
      ],
      "source": [
        "from google.colab import drive\n",
        "drive.mount('/content/drive')\n",
        "import pandas as pd\n",
        "import numpy as np\n",
        "import matplotlib.pyplot as plt\n",
        "import seaborn as sns\n",
        "from scipy.stats import kurtosis, skew # it's to explore some statistics of numerical values\n",
        "from scipy import stats\n",
        "import io"
      ]
    },
    {
      "cell_type": "markdown",
      "metadata": {
        "id": "UDkZEYH6O8IO"
      },
      "source": [
        "Loading dfs"
      ]
    },
    {
      "cell_type": "code",
      "execution_count": 2,
      "metadata": {
        "id": "jUAhVOn3O-Wp"
      },
      "outputs": [],
      "source": [
        "X_train = pd.read_pickle('/content/drive/MyDrive/Lab_datos/Patient_Survival/X_train.pkl')\n",
        "y_train = pd.read_pickle('/content/drive/MyDrive/Lab_datos/Patient_Survival/y_train.pkl')\n",
        "cat_col = pd.read_csv('/content/drive/MyDrive/Lab_datos/Patient_Survival/cat_col.csv')\n",
        "num_col = pd.read_csv('/content/drive/MyDrive/Lab_datos/Patient_Survival/num_col.csv')"
      ]
    },
    {
      "cell_type": "markdown",
      "metadata": {
        "id": "9fz3Fs1pX7Hq"
      },
      "source": [
        "Cleaning data"
      ]
    },
    {
      "cell_type": "code",
      "execution_count": 3,
      "metadata": {
        "id": "LAv2fLpwX9Fq"
      },
      "outputs": [],
      "source": [
        "cat_cols = cat_col['0'].tolist()\n",
        "num_cols = num_col['0'].tolist()\n",
        "num_cols.remove(\"hospital_death\")"
      ]
    },
    {
      "cell_type": "code",
      "execution_count": 31,
      "metadata": {
        "id": "qVcGIe7JYw59"
      },
      "outputs": [],
      "source": [
        "from sklearn.pipeline import Pipeline\n",
        "from sklearn.preprocessing import StandardScaler, OneHotEncoder\n",
        "from sklearn.impute import SimpleImputer\n",
        "from sklearn.compose import ColumnTransformer\n",
        "\n",
        "X_train[cat_cols] = X_train[cat_cols].apply(lambda x: x.fillna(x.value_counts().index[0]))\n",
        "num_pipeline = Pipeline([\n",
        "        ('imputer', SimpleImputer(strategy=\"median\")),\n",
        "        ('std_scaler', StandardScaler()),\n",
        "    ])\n",
        "\n",
        "full_pipeline = ColumnTransformer([\n",
        "        (\"num\", num_pipeline, num_cols),\n",
        "        (\"cat\", OneHotEncoder(handle_unknown='ignore'), cat_cols),\n",
        "    ])\n",
        "\n",
        "X_train_transformed = full_pipeline.fit_transform(X_train)"
      ]
    },
    {
      "cell_type": "code",
      "execution_count": null,
      "metadata": {
        "colab": {
          "base_uri": "https://localhost:8080/"
        },
        "id": "UwP7VuPGjCD5",
        "outputId": "1f507a77-2a8d-4416-b016-b1b9200a2846"
      },
      "outputs": [
        {
          "data": {
            "text/plain": [
              "(73370, 118)"
            ]
          },
          "execution_count": 5,
          "metadata": {},
          "output_type": "execute_result"
        }
      ],
      "source": [
        "X_train_transformed.shape"
      ]
    },
    {
      "cell_type": "code",
      "execution_count": 5,
      "metadata": {
        "id": "SFBrOQRXhiKc"
      },
      "outputs": [],
      "source": [
        "cat_encoder = OneHotEncoder()\n",
        "patient_cat_1hot = cat_encoder.fit_transform(X_train[cat_cols])"
      ]
    },
    {
      "cell_type": "code",
      "execution_count": 6,
      "metadata": {
        "id": "nnwSMBIUjGsz"
      },
      "outputs": [],
      "source": [
        "cols = num_cols\n",
        "for i in range(len(cat_encoder.categories_)):\n",
        "  cols = np.concatenate([cols,cat_encoder.categories_[i]],axis = None)"
      ]
    },
    {
      "cell_type": "code",
      "execution_count": 7,
      "metadata": {
        "id": "UjMZzq-ZfXj5"
      },
      "outputs": [],
      "source": [
        "X_train_transformed_df = pd.DataFrame(X_train_transformed,columns = cols)\n",
        "X_train_transformed_df = X_train_transformed_df.apply(lambda x: x.fillna(x.value_counts().index[0]))"
      ]
    },
    {
      "cell_type": "code",
      "execution_count": null,
      "metadata": {
        "colab": {
          "base_uri": "https://localhost:8080/",
          "height": 500
        },
        "id": "EVHJScO6o8uz",
        "outputId": "4787a70d-944c-4017-a06d-517088f10316"
      },
      "outputs": [
        {
          "data": {
            "text/html": [
              "\n",
              "  <div id=\"df-ef3e71fc-eccf-448b-adbd-023adee53a05\">\n",
              "    <div class=\"colab-df-container\">\n",
              "      <div>\n",
              "<style scoped>\n",
              "    .dataframe tbody tr th:only-of-type {\n",
              "        vertical-align: middle;\n",
              "    }\n",
              "\n",
              "    .dataframe tbody tr th {\n",
              "        vertical-align: top;\n",
              "    }\n",
              "\n",
              "    .dataframe thead th {\n",
              "        text-align: right;\n",
              "    }\n",
              "</style>\n",
              "<table border=\"1\" class=\"dataframe\">\n",
              "  <thead>\n",
              "    <tr style=\"text-align: right;\">\n",
              "      <th></th>\n",
              "      <th>age</th>\n",
              "      <th>bmi</th>\n",
              "      <th>elective_surgery</th>\n",
              "      <th>height</th>\n",
              "      <th>icu_id</th>\n",
              "      <th>pre_icu_los_days</th>\n",
              "      <th>weight</th>\n",
              "      <th>apache_2_diagnosis</th>\n",
              "      <th>apache_3j_diagnosis</th>\n",
              "      <th>apache_post_operative</th>\n",
              "      <th>...</th>\n",
              "      <th>Cardiovascular</th>\n",
              "      <th>Gastrointestinal</th>\n",
              "      <th>Haematologic</th>\n",
              "      <th>Metabolic</th>\n",
              "      <th>Neurologic</th>\n",
              "      <th>Renal/Genitourinary</th>\n",
              "      <th>Respiratory</th>\n",
              "      <th>Trauma</th>\n",
              "      <th>Undefined Diagnoses</th>\n",
              "      <th>Undefined diagnoses</th>\n",
              "    </tr>\n",
              "  </thead>\n",
              "  <tbody>\n",
              "    <tr>\n",
              "      <th>0</th>\n",
              "      <td>-0.638313</td>\n",
              "      <td>0.704749</td>\n",
              "      <td>-0.474964</td>\n",
              "      <td>-1.143576</td>\n",
              "      <td>-0.586385</td>\n",
              "      <td>-0.315841</td>\n",
              "      <td>0.096822</td>\n",
              "      <td>1.367602</td>\n",
              "      <td>-0.970624</td>\n",
              "      <td>-0.502065</td>\n",
              "      <td>...</td>\n",
              "      <td>1.0</td>\n",
              "      <td>0.0</td>\n",
              "      <td>0.0</td>\n",
              "      <td>0.0</td>\n",
              "      <td>0.0</td>\n",
              "      <td>0.0</td>\n",
              "      <td>0.0</td>\n",
              "      <td>0.0</td>\n",
              "      <td>0.0</td>\n",
              "      <td>0.0</td>\n",
              "    </tr>\n",
              "    <tr>\n",
              "      <th>1</th>\n",
              "      <td>-2.528108</td>\n",
              "      <td>0.210416</td>\n",
              "      <td>-0.474964</td>\n",
              "      <td>-0.154459</td>\n",
              "      <td>0.404820</td>\n",
              "      <td>-0.253305</td>\n",
              "      <td>0.125209</td>\n",
              "      <td>-0.752860</td>\n",
              "      <td>-0.324702</td>\n",
              "      <td>-0.502065</td>\n",
              "      <td>...</td>\n",
              "      <td>0.0</td>\n",
              "      <td>0.0</td>\n",
              "      <td>0.0</td>\n",
              "      <td>0.0</td>\n",
              "      <td>1.0</td>\n",
              "      <td>0.0</td>\n",
              "      <td>0.0</td>\n",
              "      <td>0.0</td>\n",
              "      <td>0.0</td>\n",
              "      <td>0.0</td>\n",
              "    </tr>\n",
              "    <tr>\n",
              "      <th>2</th>\n",
              "      <td>1.068599</td>\n",
              "      <td>-0.136676</td>\n",
              "      <td>-0.474964</td>\n",
              "      <td>1.235903</td>\n",
              "      <td>-1.782818</td>\n",
              "      <td>-0.330507</td>\n",
              "      <td>0.396916</td>\n",
              "      <td>-0.741209</td>\n",
              "      <td>-0.320343</td>\n",
              "      <td>-0.502065</td>\n",
              "      <td>...</td>\n",
              "      <td>0.0</td>\n",
              "      <td>0.0</td>\n",
              "      <td>0.0</td>\n",
              "      <td>0.0</td>\n",
              "      <td>1.0</td>\n",
              "      <td>0.0</td>\n",
              "      <td>0.0</td>\n",
              "      <td>0.0</td>\n",
              "      <td>0.0</td>\n",
              "      <td>0.0</td>\n",
              "    </tr>\n",
              "    <tr>\n",
              "      <th>3</th>\n",
              "      <td>1.434365</td>\n",
              "      <td>-0.803274</td>\n",
              "      <td>2.105422</td>\n",
              "      <td>1.898425</td>\n",
              "      <td>-0.586385</td>\n",
              "      <td>0.938758</td>\n",
              "      <td>-0.093779</td>\n",
              "      <td>1.367602</td>\n",
              "      <td>1.412401</td>\n",
              "      <td>1.991774</td>\n",
              "      <td>...</td>\n",
              "      <td>1.0</td>\n",
              "      <td>0.0</td>\n",
              "      <td>0.0</td>\n",
              "      <td>0.0</td>\n",
              "      <td>0.0</td>\n",
              "      <td>0.0</td>\n",
              "      <td>0.0</td>\n",
              "      <td>0.0</td>\n",
              "      <td>0.0</td>\n",
              "      <td>0.0</td>\n",
              "    </tr>\n",
              "    <tr>\n",
              "      <th>4</th>\n",
              "      <td>-0.638313</td>\n",
              "      <td>0.448065</td>\n",
              "      <td>-0.474964</td>\n",
              "      <td>-0.191785</td>\n",
              "      <td>1.265030</td>\n",
              "      <td>-0.315565</td>\n",
              "      <td>0.327976</td>\n",
              "      <td>-0.822765</td>\n",
              "      <td>-0.986129</td>\n",
              "      <td>-0.502065</td>\n",
              "      <td>...</td>\n",
              "      <td>1.0</td>\n",
              "      <td>0.0</td>\n",
              "      <td>0.0</td>\n",
              "      <td>0.0</td>\n",
              "      <td>0.0</td>\n",
              "      <td>0.0</td>\n",
              "      <td>0.0</td>\n",
              "      <td>0.0</td>\n",
              "      <td>0.0</td>\n",
              "      <td>0.0</td>\n",
              "    </tr>\n",
              "    <tr>\n",
              "      <th>...</th>\n",
              "      <td>...</td>\n",
              "      <td>...</td>\n",
              "      <td>...</td>\n",
              "      <td>...</td>\n",
              "      <td>...</td>\n",
              "      <td>...</td>\n",
              "      <td>...</td>\n",
              "      <td>...</td>\n",
              "      <td>...</td>\n",
              "      <td>...</td>\n",
              "      <td>...</td>\n",
              "      <td>...</td>\n",
              "      <td>...</td>\n",
              "      <td>...</td>\n",
              "      <td>...</td>\n",
              "      <td>...</td>\n",
              "      <td>...</td>\n",
              "      <td>...</td>\n",
              "      <td>...</td>\n",
              "      <td>...</td>\n",
              "      <td>...</td>\n",
              "    </tr>\n",
              "    <tr>\n",
              "      <th>73365</th>\n",
              "      <td>0.032259</td>\n",
              "      <td>-1.711436</td>\n",
              "      <td>-0.474964</td>\n",
              "      <td>0.284111</td>\n",
              "      <td>-0.354958</td>\n",
              "      <td>0.094242</td>\n",
              "      <td>-1.559783</td>\n",
              "      <td>1.379253</td>\n",
              "      <td>-0.749577</td>\n",
              "      <td>-0.502065</td>\n",
              "      <td>...</td>\n",
              "      <td>0.0</td>\n",
              "      <td>0.0</td>\n",
              "      <td>0.0</td>\n",
              "      <td>0.0</td>\n",
              "      <td>0.0</td>\n",
              "      <td>0.0</td>\n",
              "      <td>1.0</td>\n",
              "      <td>0.0</td>\n",
              "      <td>0.0</td>\n",
              "      <td>0.0</td>\n",
              "    </tr>\n",
              "    <tr>\n",
              "      <th>73366</th>\n",
              "      <td>-1.247924</td>\n",
              "      <td>0.491084</td>\n",
              "      <td>-0.474964</td>\n",
              "      <td>-0.191785</td>\n",
              "      <td>0.824009</td>\n",
              "      <td>-0.293151</td>\n",
              "      <td>0.367718</td>\n",
              "      <td>-0.706256</td>\n",
              "      <td>-0.545879</td>\n",
              "      <td>-0.502065</td>\n",
              "      <td>...</td>\n",
              "      <td>0.0</td>\n",
              "      <td>1.0</td>\n",
              "      <td>0.0</td>\n",
              "      <td>0.0</td>\n",
              "      <td>0.0</td>\n",
              "      <td>0.0</td>\n",
              "      <td>0.0</td>\n",
              "      <td>0.0</td>\n",
              "      <td>0.0</td>\n",
              "      <td>0.0</td>\n",
              "    </tr>\n",
              "    <tr>\n",
              "      <th>73367</th>\n",
              "      <td>-0.577352</td>\n",
              "      <td>1.185535</td>\n",
              "      <td>-0.474964</td>\n",
              "      <td>-0.191785</td>\n",
              "      <td>-1.079805</td>\n",
              "      <td>-0.317225</td>\n",
              "      <td>1.009272</td>\n",
              "      <td>-0.881019</td>\n",
              "      <td>-0.973118</td>\n",
              "      <td>-0.502065</td>\n",
              "      <td>...</td>\n",
              "      <td>1.0</td>\n",
              "      <td>0.0</td>\n",
              "      <td>0.0</td>\n",
              "      <td>0.0</td>\n",
              "      <td>0.0</td>\n",
              "      <td>0.0</td>\n",
              "      <td>0.0</td>\n",
              "      <td>0.0</td>\n",
              "      <td>0.0</td>\n",
              "      <td>0.0</td>\n",
              "    </tr>\n",
              "    <tr>\n",
              "      <th>73368</th>\n",
              "      <td>-0.028702</td>\n",
              "      <td>0.123227</td>\n",
              "      <td>2.105422</td>\n",
              "      <td>-0.191785</td>\n",
              "      <td>0.513984</td>\n",
              "      <td>-0.217610</td>\n",
              "      <td>0.027881</td>\n",
              "      <td>0.330673</td>\n",
              "      <td>1.839597</td>\n",
              "      <td>1.991774</td>\n",
              "      <td>...</td>\n",
              "      <td>0.0</td>\n",
              "      <td>1.0</td>\n",
              "      <td>0.0</td>\n",
              "      <td>0.0</td>\n",
              "      <td>0.0</td>\n",
              "      <td>0.0</td>\n",
              "      <td>0.0</td>\n",
              "      <td>0.0</td>\n",
              "      <td>0.0</td>\n",
              "      <td>0.0</td>\n",
              "    </tr>\n",
              "    <tr>\n",
              "      <th>73369</th>\n",
              "      <td>-0.089663</td>\n",
              "      <td>0.200562</td>\n",
              "      <td>-0.474964</td>\n",
              "      <td>1.469185</td>\n",
              "      <td>0.483418</td>\n",
              "      <td>-0.284573</td>\n",
              "      <td>0.882746</td>\n",
              "      <td>-0.846067</td>\n",
              "      <td>-0.975286</td>\n",
              "      <td>-0.502065</td>\n",
              "      <td>...</td>\n",
              "      <td>1.0</td>\n",
              "      <td>0.0</td>\n",
              "      <td>0.0</td>\n",
              "      <td>0.0</td>\n",
              "      <td>0.0</td>\n",
              "      <td>0.0</td>\n",
              "      <td>0.0</td>\n",
              "      <td>0.0</td>\n",
              "      <td>0.0</td>\n",
              "      <td>0.0</td>\n",
              "    </tr>\n",
              "  </tbody>\n",
              "</table>\n",
              "<p>73370 rows × 118 columns</p>\n",
              "</div>\n",
              "      <button class=\"colab-df-convert\" onclick=\"convertToInteractive('df-ef3e71fc-eccf-448b-adbd-023adee53a05')\"\n",
              "              title=\"Convert this dataframe to an interactive table.\"\n",
              "              style=\"display:none;\">\n",
              "        \n",
              "  <svg xmlns=\"http://www.w3.org/2000/svg\" height=\"24px\"viewBox=\"0 0 24 24\"\n",
              "       width=\"24px\">\n",
              "    <path d=\"M0 0h24v24H0V0z\" fill=\"none\"/>\n",
              "    <path d=\"M18.56 5.44l.94 2.06.94-2.06 2.06-.94-2.06-.94-.94-2.06-.94 2.06-2.06.94zm-11 1L8.5 8.5l.94-2.06 2.06-.94-2.06-.94L8.5 2.5l-.94 2.06-2.06.94zm10 10l.94 2.06.94-2.06 2.06-.94-2.06-.94-.94-2.06-.94 2.06-2.06.94z\"/><path d=\"M17.41 7.96l-1.37-1.37c-.4-.4-.92-.59-1.43-.59-.52 0-1.04.2-1.43.59L10.3 9.45l-7.72 7.72c-.78.78-.78 2.05 0 2.83L4 21.41c.39.39.9.59 1.41.59.51 0 1.02-.2 1.41-.59l7.78-7.78 2.81-2.81c.8-.78.8-2.07 0-2.86zM5.41 20L4 18.59l7.72-7.72 1.47 1.35L5.41 20z\"/>\n",
              "  </svg>\n",
              "      </button>\n",
              "      \n",
              "  <style>\n",
              "    .colab-df-container {\n",
              "      display:flex;\n",
              "      flex-wrap:wrap;\n",
              "      gap: 12px;\n",
              "    }\n",
              "\n",
              "    .colab-df-convert {\n",
              "      background-color: #E8F0FE;\n",
              "      border: none;\n",
              "      border-radius: 50%;\n",
              "      cursor: pointer;\n",
              "      display: none;\n",
              "      fill: #1967D2;\n",
              "      height: 32px;\n",
              "      padding: 0 0 0 0;\n",
              "      width: 32px;\n",
              "    }\n",
              "\n",
              "    .colab-df-convert:hover {\n",
              "      background-color: #E2EBFA;\n",
              "      box-shadow: 0px 1px 2px rgba(60, 64, 67, 0.3), 0px 1px 3px 1px rgba(60, 64, 67, 0.15);\n",
              "      fill: #174EA6;\n",
              "    }\n",
              "\n",
              "    [theme=dark] .colab-df-convert {\n",
              "      background-color: #3B4455;\n",
              "      fill: #D2E3FC;\n",
              "    }\n",
              "\n",
              "    [theme=dark] .colab-df-convert:hover {\n",
              "      background-color: #434B5C;\n",
              "      box-shadow: 0px 1px 3px 1px rgba(0, 0, 0, 0.15);\n",
              "      filter: drop-shadow(0px 1px 2px rgba(0, 0, 0, 0.3));\n",
              "      fill: #FFFFFF;\n",
              "    }\n",
              "  </style>\n",
              "\n",
              "      <script>\n",
              "        const buttonEl =\n",
              "          document.querySelector('#df-ef3e71fc-eccf-448b-adbd-023adee53a05 button.colab-df-convert');\n",
              "        buttonEl.style.display =\n",
              "          google.colab.kernel.accessAllowed ? 'block' : 'none';\n",
              "\n",
              "        async function convertToInteractive(key) {\n",
              "          const element = document.querySelector('#df-ef3e71fc-eccf-448b-adbd-023adee53a05');\n",
              "          const dataTable =\n",
              "            await google.colab.kernel.invokeFunction('convertToInteractive',\n",
              "                                                     [key], {});\n",
              "          if (!dataTable) return;\n",
              "\n",
              "          const docLinkHtml = 'Like what you see? Visit the ' +\n",
              "            '<a target=\"_blank\" href=https://colab.research.google.com/notebooks/data_table.ipynb>data table notebook</a>'\n",
              "            + ' to learn more about interactive tables.';\n",
              "          element.innerHTML = '';\n",
              "          dataTable['output_type'] = 'display_data';\n",
              "          await google.colab.output.renderOutput(dataTable, element);\n",
              "          const docLink = document.createElement('div');\n",
              "          docLink.innerHTML = docLinkHtml;\n",
              "          element.appendChild(docLink);\n",
              "        }\n",
              "      </script>\n",
              "    </div>\n",
              "  </div>\n",
              "  "
            ],
            "text/plain": [
              "            age       bmi  elective_surgery    height    icu_id  \\\n",
              "0     -0.638313  0.704749         -0.474964 -1.143576 -0.586385   \n",
              "1     -2.528108  0.210416         -0.474964 -0.154459  0.404820   \n",
              "2      1.068599 -0.136676         -0.474964  1.235903 -1.782818   \n",
              "3      1.434365 -0.803274          2.105422  1.898425 -0.586385   \n",
              "4     -0.638313  0.448065         -0.474964 -0.191785  1.265030   \n",
              "...         ...       ...               ...       ...       ...   \n",
              "73365  0.032259 -1.711436         -0.474964  0.284111 -0.354958   \n",
              "73366 -1.247924  0.491084         -0.474964 -0.191785  0.824009   \n",
              "73367 -0.577352  1.185535         -0.474964 -0.191785 -1.079805   \n",
              "73368 -0.028702  0.123227          2.105422 -0.191785  0.513984   \n",
              "73369 -0.089663  0.200562         -0.474964  1.469185  0.483418   \n",
              "\n",
              "       pre_icu_los_days    weight  apache_2_diagnosis  apache_3j_diagnosis  \\\n",
              "0             -0.315841  0.096822            1.367602            -0.970624   \n",
              "1             -0.253305  0.125209           -0.752860            -0.324702   \n",
              "2             -0.330507  0.396916           -0.741209            -0.320343   \n",
              "3              0.938758 -0.093779            1.367602             1.412401   \n",
              "4             -0.315565  0.327976           -0.822765            -0.986129   \n",
              "...                 ...       ...                 ...                  ...   \n",
              "73365          0.094242 -1.559783            1.379253            -0.749577   \n",
              "73366         -0.293151  0.367718           -0.706256            -0.545879   \n",
              "73367         -0.317225  1.009272           -0.881019            -0.973118   \n",
              "73368         -0.217610  0.027881            0.330673             1.839597   \n",
              "73369         -0.284573  0.882746           -0.846067            -0.975286   \n",
              "\n",
              "       apache_post_operative  ...  Cardiovascular  Gastrointestinal  \\\n",
              "0                  -0.502065  ...             1.0               0.0   \n",
              "1                  -0.502065  ...             0.0               0.0   \n",
              "2                  -0.502065  ...             0.0               0.0   \n",
              "3                   1.991774  ...             1.0               0.0   \n",
              "4                  -0.502065  ...             1.0               0.0   \n",
              "...                      ...  ...             ...               ...   \n",
              "73365              -0.502065  ...             0.0               0.0   \n",
              "73366              -0.502065  ...             0.0               1.0   \n",
              "73367              -0.502065  ...             1.0               0.0   \n",
              "73368               1.991774  ...             0.0               1.0   \n",
              "73369              -0.502065  ...             1.0               0.0   \n",
              "\n",
              "       Haematologic  Metabolic  Neurologic  Renal/Genitourinary  Respiratory  \\\n",
              "0               0.0        0.0         0.0                  0.0          0.0   \n",
              "1               0.0        0.0         1.0                  0.0          0.0   \n",
              "2               0.0        0.0         1.0                  0.0          0.0   \n",
              "3               0.0        0.0         0.0                  0.0          0.0   \n",
              "4               0.0        0.0         0.0                  0.0          0.0   \n",
              "...             ...        ...         ...                  ...          ...   \n",
              "73365           0.0        0.0         0.0                  0.0          1.0   \n",
              "73366           0.0        0.0         0.0                  0.0          0.0   \n",
              "73367           0.0        0.0         0.0                  0.0          0.0   \n",
              "73368           0.0        0.0         0.0                  0.0          0.0   \n",
              "73369           0.0        0.0         0.0                  0.0          0.0   \n",
              "\n",
              "       Trauma  Undefined Diagnoses  Undefined diagnoses  \n",
              "0         0.0                  0.0                  0.0  \n",
              "1         0.0                  0.0                  0.0  \n",
              "2         0.0                  0.0                  0.0  \n",
              "3         0.0                  0.0                  0.0  \n",
              "4         0.0                  0.0                  0.0  \n",
              "...       ...                  ...                  ...  \n",
              "73365     0.0                  0.0                  0.0  \n",
              "73366     0.0                  0.0                  0.0  \n",
              "73367     0.0                  0.0                  0.0  \n",
              "73368     0.0                  0.0                  0.0  \n",
              "73369     0.0                  0.0                  0.0  \n",
              "\n",
              "[73370 rows x 118 columns]"
            ]
          },
          "execution_count": 9,
          "metadata": {},
          "output_type": "execute_result"
        }
      ],
      "source": [
        "X_train_transformed_df"
      ]
    },
    {
      "cell_type": "code",
      "execution_count": null,
      "metadata": {
        "colab": {
          "base_uri": "https://localhost:8080/"
        },
        "id": "L5GW7kgWfm0G",
        "outputId": "f8069c0a-06ff-4fa4-ccc7-20ba2356a434"
      },
      "outputs": [
        {
          "data": {
            "text/plain": [
              "array([[-0.63831298,  0.70474899, -0.47496412, ...,  0.        ,\n",
              "         0.        ,  0.        ],\n",
              "       [-2.52810804,  0.21041559, -0.47496412, ...,  0.        ,\n",
              "         0.        ,  0.        ],\n",
              "       [ 1.06859869, -0.13667619, -0.47496412, ...,  0.        ,\n",
              "         0.        ,  0.        ],\n",
              "       ...,\n",
              "       [-0.57735185,  1.18553455, -0.47496412, ...,  0.        ,\n",
              "         0.        ,  0.        ],\n",
              "       [-0.02870167,  0.12322703,  2.10542221, ...,  0.        ,\n",
              "         0.        ,  0.        ],\n",
              "       [-0.0896628 ,  0.20056205, -0.47496412, ...,  0.        ,\n",
              "         0.        ,  0.        ]])"
            ]
          },
          "execution_count": 10,
          "metadata": {},
          "output_type": "execute_result"
        }
      ],
      "source": [
        "X_train_transformed"
      ]
    },
    {
      "cell_type": "markdown",
      "metadata": {
        "id": "HHhofu5UO-fZ"
      },
      "source": [
        "Mutual information"
      ]
    },
    {
      "cell_type": "code",
      "execution_count": null,
      "metadata": {
        "id": "k8RmCkeBPBS7"
      },
      "outputs": [],
      "source": [
        "X_train_2 = X_train.copy()\n",
        "X_train_2[cat_cols] = X_train_2[cat_cols].apply(lambda x: x.fillna(x.value_counts().index[0]))\n",
        "for colname in X_train_2.select_dtypes(\"object\"):\n",
        "    X_train_2[colname], _ = X_train_2[colname].factorize()\n",
        "\n",
        "for col in num_cols:     #---Applying Only on variables with NaN values\n",
        "    X_train_2.loc[X_train_2[col].isna(),col] = X_train_2[col].mean()\n",
        "discrete_features = X_train_2.dtypes == int"
      ]
    },
    {
      "cell_type": "code",
      "execution_count": null,
      "metadata": {
        "id": "5GROX8Mh2EGP"
      },
      "outputs": [],
      "source": [
        "from sklearn.feature_selection import mutual_info_classif as MIC\n",
        "mi_scores = MIC(X_train_2,y_train)\n",
        "mi_scores = pd.Series(mi_scores, name=\"MI Scores\", index=X_train_2.columns)\n",
        "mi_scores = mi_scores.sort_values(ascending=False)"
      ]
    },
    {
      "cell_type": "code",
      "execution_count": null,
      "metadata": {
        "colab": {
          "base_uri": "https://localhost:8080/"
        },
        "id": "YMZs3QBe4fC5",
        "outputId": "7bc99c46-4ce2-446f-8e00-f16ec03ca3c2"
      },
      "outputs": [
        {
          "data": {
            "text/plain": [
              "d1_diasbp_max        0.000734\n",
              "cirrhosis            0.000500\n",
              "arf_apache           0.000415\n",
              "icu_stay_type        0.000276\n",
              "immunosuppression    0.000200\n",
              "hepatic_failure      0.000169\n",
              "patient_id           0.000098\n",
              "height               0.000000\n",
              "diabetes_mellitus    0.000000\n",
              "Name: MI Scores, dtype: float64"
            ]
          },
          "execution_count": 14,
          "metadata": {},
          "output_type": "execute_result"
        }
      ],
      "source": [
        "mi_scores[-10:-1]\n",
        "# we can see that these features are irrelevant"
      ]
    },
    {
      "cell_type": "code",
      "execution_count": null,
      "metadata": {
        "colab": {
          "base_uri": "https://localhost:8080/",
          "height": 336
        },
        "id": "arRRx1LI2o7m",
        "outputId": "4d682f8a-7e15-44ff-e40e-7aba9f16bc2f"
      },
      "outputs": [
        {
          "data": {
            "image/png": "[encoded data removed]",
            "text/plain": [
              "<Figure size 800x500 with 1 Axes>"
            ]
          },
          "metadata": {},
          "output_type": "display_data"
        }
      ],
      "source": [
        "def plot_mi_scores(scores):\n",
        "    width = np.arange(len(scores))\n",
        "    ticks = list(scores.index)\n",
        "    plt.barh(width, scores)\n",
        "    plt.yticks(width, ticks)\n",
        "    plt.title(\"Mutual Information Scores\")\n",
        "\n",
        "plt.figure(dpi=100, figsize=(8, 5))\n",
        "plot_mi_scores(mi_scores[0:10])"
      ]
    },
    {
      "cell_type": "markdown",
      "metadata": {
        "id": "PQV7JrJC7Uij"
      },
      "source": [
        "PCA"
      ]
    },
    {
      "cell_type": "code",
      "execution_count": null,
      "metadata": {
        "colab": {
          "base_uri": "https://localhost:8080/",
          "height": 259
        },
        "id": "GRwZhfb_62jG",
        "outputId": "72e44e88-481e-46be-ea34-782935c734b4"
      },
      "outputs": [
        {
          "data": {
            "text/plain": [
              "Text(0.5, 0, 'PC')"
            ]
          },
          "execution_count": 16,
          "metadata": {},
          "output_type": "execute_result"
        },
        {
          "data": {
            "image/png": "[encoded data removed]",
            "text/plain": [
              "<Figure size 864x288 with 2 Axes>"
            ]
          },
          "metadata": {},
          "output_type": "display_data"
        }
      ],
      "source": [
        "from sklearn.decomposition import PCA\n",
        "pca=PCA()\n",
        "\n",
        "pca.fit_transform(X_train_transformed_df)\n",
        "explained_variance_s=pca.explained_variance_ratio_\n",
        "# Graficamos la fracción de varianza que aporta cada componente\n",
        "# y la información acumulada\n",
        "fig, ax = plt.subplots(1, 2, figsize = (12, 4))\n",
        "\n",
        "ax[0].plot(range(1, len(explained_variance_s) + 1), explained_variance_s, '.-', markersize = 20)\n",
        "ax[0].set_ylabel('Explained fraction variance')\n",
        "ax[0].set_xlabel('PC')\n",
        "\n",
        "# Calculamos el acumulado con la función cumsum de numpy \n",
        "varianza_acumulada = np.cumsum(explained_variance_s)\n",
        "\n",
        "ax[1].plot(range(1, len(explained_variance_s) + 1), varianza_acumulada, '.-', markersize = 20)\n",
        "ax[1].set_ylabel('Aggregated fraction variance')\n",
        "ax[1].set_xlabel('PC')\n"
      ]
    },
    {
      "cell_type": "markdown",
      "metadata": {
        "id": "w27Yyxtp92hX"
      },
      "source": [
        "We can see that with 60 components we are explaining most of the DS"
      ]
    },
    {
      "cell_type": "code",
      "execution_count": 8,
      "metadata": {
        "id": "nzezwXvJGUGa"
      },
      "outputs": [],
      "source": [
        "from sklearn.decomposition import PCA\n",
        "pca = PCA(n_components = 60)\n",
        "pca.fit(X_train_transformed_df)\n",
        "X_pca = pca.transform(X_train_transformed_df)"
      ]
    },
    {
      "cell_type": "markdown",
      "metadata": {
        "id": "SG8XYAfpDb1W"
      },
      "source": [
        "# Models"
      ]
    },
    {
      "cell_type": "code",
      "execution_count": 9,
      "metadata": {
        "id": "Y8uJLJtRDePA"
      },
      "outputs": [],
      "source": [
        "# Import necessary packages\n",
        "from sklearn.linear_model import LogisticRegression\n",
        "from sklearn.svm import SVC\n",
        "from sklearn.ensemble import RandomForestClassifier\n",
        "from sklearn.ensemble import GradientBoostingClassifier\n",
        "from imblearn.pipeline import Pipeline\n",
        "from sklearn.model_selection import GridSearchCV, RandomizedSearchCV\n",
        "from sklearn.model_selection import train_test_split\n",
        "from sklearn.tree import DecisionTreeClassifier\n",
        "from sklearn.naive_bayes import MultinomialNB\n",
        "from sklearn.neighbors import KNeighborsClassifier\n",
        "from sklearn.metrics import *\n",
        "from imblearn.over_sampling import SMOTE\n",
        "from imblearn.under_sampling import RandomUnderSampler"
      ]
    },
    {
      "cell_type": "code",
      "execution_count": 10,
      "metadata": {
        "id": "jV5Cn8gXFDRO"
      },
      "outputs": [],
      "source": [
        "# Initialize the estimators\n",
        "clf1 = RandomForestClassifier(random_state=42)\n",
        "clf2 = SVC(probability=True, random_state=42)\n",
        "#clf3 = LogisticRegression(random_state=42)\n",
        "clf4 = DecisionTreeClassifier(random_state=42)\n",
        "#clf5 = KNeighborsClassifier()"
      ]
    },
    {
      "cell_type": "code",
      "execution_count": 11,
      "metadata": {
        "id": "buhb8FdoFHuY"
      },
      "outputs": [],
      "source": [
        "# Initiaze the hyperparameters for each dictionary\n",
        "params = {}\n",
        "params[\"param1\"] = {}\n",
        "params[\"param1\"][\"params\"] = {}\n",
        "params[\"param1\"][\"params\"]['classifier__n_estimators'] = [10, 50, 100, 250]\n",
        "params[\"param1\"][\"params\"]['classifier__max_depth'] = [5, 10, 20]\n",
        "params[\"param1\"][\"params\"]['classifier__class_weight'] = [None, {0:1,1:5}, {0:1,1:10}, {0:1,1:25}]\n",
        "params[\"param1\"]['classifier'] = clf1\n",
        "\n",
        "params[\"param2\"] = {}\n",
        "params[\"param2\"][\"params\"] = {}\n",
        "params[\"param2\"][\"params\"]['classifier__C'] = [10**-2, 10**-1, 10**0, 10**1, 10**2]\n",
        "params[\"param2\"][\"params\"]['classifier__class_weight'] = [None, {0:1,1:5}, {0:1,1:10}, {0:1,1:25}]\n",
        "params[\"param2\"]['classifier'] = clf2\n",
        "\n",
        "#params[\"param3\"] = {}\n",
        "#params[\"param3\"][\"params\"] = {}\n",
        "#params[\"param3\"][\"params\"]['classifier__C'] = [10**-2, 10**-1, 10**0, 10**1, 10**2]\n",
        "#params[\"param3\"][\"params\"]['classifier__penalty'] = ['l1', 'l2']\n",
        "#params[\"param3\"][\"params\"]['classifier__class_weight'] = [None, {0:1,1:5}, {0:1,1:10}, {0:1,1:25}]\n",
        "#params[\"param3\"]['classifier'] = clf3\n",
        "\n",
        "params[\"param4\"] = {}\n",
        "params[\"param4\"][\"params\"] = {}\n",
        "params[\"param4\"][\"params\"]['classifier__max_depth'] = [5,10,25,None]\n",
        "params[\"param4\"][\"params\"]['classifier__min_samples_split'] = [2,5,10]\n",
        "params[\"param4\"][\"params\"]['classifier__class_weight'] = [None, {0:1,1:5}, {0:1,1:10}, {0:1,1:25}]\n",
        "params[\"param4\"]['classifier'] = clf4\n",
        "\n",
        "#params[\"param5\"] = {}\n",
        "#params[\"param5\"][\"params\"] = {}\n",
        "#params[\"param5\"][\"params\"]['classifier__n_neighbors'] = [2,5,10,25,50]\n",
        "#params[\"param5\"]['classifier'] = clf5"
      ]
    },
    {
      "cell_type": "code",
      "execution_count": 12,
      "metadata": {
        "colab": {
          "base_uri": "https://localhost:8080/"
        },
        "id": "GDUanMOgUQdK",
        "outputId": "f4332af3-1e00-42cb-af40-4d54e5ed47ef"
      },
      "outputs": [
        {
          "output_type": "execute_result",
          "data": {
            "text/plain": [
              "{'classifier__class_weight': [None,\n",
              "  {0: 1, 1: 5},\n",
              "  {0: 1, 1: 10},\n",
              "  {0: 1, 1: 25}],\n",
              " 'classifier__max_depth': [5, 10, 20],\n",
              " 'classifier__n_estimators': [10, 50, 100, 250]}"
            ]
          },
          "metadata": {},
          "execution_count": 12
        }
      ],
      "source": [
        "params[\"param1\"]['params']"
      ]
    },
    {
      "cell_type": "code",
      "execution_count": 12,
      "metadata": {
        "colab": {
          "base_uri": "https://localhost:8080/"
        },
        "id": "fRa-x9E6FfmL",
        "outputId": "a90302e7-d2bc-49e9-9120-83ca688d58e9"
      },
      "outputs": [
        {
          "output_type": "stream",
          "name": "stdout",
          "text": [
            "   mean_fit_time  std_fit_time  mean_score_time  std_score_time  \\\n",
            "0       9.556875      2.794269         0.409861        0.119064   \n",
            "1       9.724302      0.154271         0.314526        0.009454   \n",
            "2       9.798051      0.180317         0.337616        0.006561   \n",
            "3       9.534904      0.506828         0.345086        0.002357   \n",
            "4      30.647560      1.162614         1.164202        0.239299   \n",
            "5       4.180030      0.277852         0.167842        0.006017   \n",
            "6      17.072834      0.140988         0.734319        0.010804   \n",
            "7      42.186739      0.107281         1.540362        0.009765   \n",
            "8       6.522526      0.073303         0.226876        0.006180   \n",
            "9       3.925706      0.360787         0.167624        0.016944   \n",
            "\n",
            "  param_classifier__n_estimators param_classifier__max_depth  \\\n",
            "0                            100                           5   \n",
            "1                             50                          20   \n",
            "2                             50                          20   \n",
            "3                             50                          20   \n",
            "4                            250                          10   \n",
            "5                             50                           5   \n",
            "6                            250                           5   \n",
            "7                            250                          20   \n",
            "8                             50                          10   \n",
            "9                             50                           5   \n",
            "\n",
            "  param_classifier__class_weight  \\\n",
            "0                   {0: 1, 1: 5}   \n",
            "1                           None   \n",
            "2                  {0: 1, 1: 25}   \n",
            "3                  {0: 1, 1: 10}   \n",
            "4                   {0: 1, 1: 5}   \n",
            "5                           None   \n",
            "6                  {0: 1, 1: 25}   \n",
            "7                   {0: 1, 1: 5}   \n",
            "8                  {0: 1, 1: 25}   \n",
            "9                   {0: 1, 1: 5}   \n",
            "\n",
            "                                              params  split0_test_roc_auc  \\\n",
            "0  {'classifier__n_estimators': 100, 'classifier_...             0.834243   \n",
            "1  {'classifier__n_estimators': 50, 'classifier__...             0.851621   \n",
            "2  {'classifier__n_estimators': 50, 'classifier__...             0.811189   \n",
            "3  {'classifier__n_estimators': 50, 'classifier__...             0.833544   \n",
            "4  {'classifier__n_estimators': 250, 'classifier_...             0.847236   \n",
            "5  {'classifier__n_estimators': 50, 'classifier__...             0.831908   \n",
            "6  {'classifier__n_estimators': 250, 'classifier_...             0.828101   \n",
            "7  {'classifier__n_estimators': 250, 'classifier_...             0.852339   \n",
            "8  {'classifier__n_estimators': 50, 'classifier__...             0.801965   \n",
            "9  {'classifier__n_estimators': 50, 'classifier__...             0.830960   \n",
            "\n",
            "   split1_test_roc_auc  ...  std_test_precision  rank_test_precision  \\\n",
            "0             0.848698  ...            0.003129                    7   \n",
            "1             0.860031  ...            0.002472                    2   \n",
            "2             0.821550  ...            0.003891                    5   \n",
            "3             0.843022  ...            0.006917                    4   \n",
            "4             0.859979  ...            0.001906                    6   \n",
            "5             0.834058  ...            0.014297                    1   \n",
            "6             0.841881  ...            0.000033                   10   \n",
            "7             0.865058  ...            0.002611                    3   \n",
            "8             0.814386  ...            0.001790                    9   \n",
            "9             0.845413  ...            0.002138                    8   \n",
            "\n",
            "   split0_test_recall  split1_test_recall  split2_test_recall  \\\n",
            "0            0.967615            0.980253            0.984202   \n",
            "1            0.575039            0.571880            0.584518   \n",
            "2            0.794629            0.838073            0.823855   \n",
            "3            0.609005            0.637441            0.634281   \n",
            "4            0.892575            0.912322            0.894155   \n",
            "5            0.390995            0.407583            0.402054   \n",
            "6            1.000000            1.000000            1.000000   \n",
            "7            0.541074            0.558452            0.545814   \n",
            "8            0.990521            0.996051            0.992891   \n",
            "9            0.970774            0.979463            0.973144   \n",
            "\n",
            "   split3_test_recall  split4_test_recall  mean_test_recall  std_test_recall  \\\n",
            "0            0.974743            0.966851          0.974733         0.006825   \n",
            "1            0.585635            0.565904          0.576595         0.007529   \n",
            "2            0.822415            0.795580          0.814910         0.017075   \n",
            "3            0.634570            0.623520          0.627763         0.010511   \n",
            "4            0.883189            0.873717          0.891192         0.012858   \n",
            "5            0.393054            0.411997          0.401137         0.008106   \n",
            "6            1.000000            1.000000          1.000000         0.000000   \n",
            "7            0.552486            0.544594          0.548484         0.006206   \n",
            "8            0.992107            0.994475          0.993209         0.001909   \n",
            "9            0.976322            0.966851          0.973311         0.004361   \n",
            "\n",
            "   rank_test_recall  \n",
            "0                 3  \n",
            "1                 8  \n",
            "2                 6  \n",
            "3                 7  \n",
            "4                 5  \n",
            "5                10  \n",
            "6                 1  \n",
            "7                 9  \n",
            "8                 2  \n",
            "9                 4  \n",
            "\n",
            "[10 rows x 48 columns]\n"
          ]
        },
        {
          "output_type": "stream",
          "name": "stderr",
          "text": [
            "/usr/local/lib/python3.7/dist-packages/joblib/externals/loky/process_executor.py:705: UserWarning: A worker stopped while some jobs were given to the executor. This can be caused by a too short worker timeout or by a memory leak.\n",
            "  \"timeout or by a memory leak.\", UserWarning\n"
          ]
        },
        {
          "output_type": "stream",
          "name": "stdout",
          "text": [
            "   mean_fit_time  std_fit_time  mean_score_time  std_score_time  \\\n",
            "0       9.556875      2.794269         0.409861        0.119064   \n",
            "1       9.724302      0.154271         0.314526        0.009454   \n",
            "2       9.798051      0.180317         0.337616        0.006561   \n",
            "3       9.534904      0.506828         0.345086        0.002357   \n",
            "4      30.647560      1.162614         1.164202        0.239299   \n",
            "5       4.180030      0.277852         0.167842        0.006017   \n",
            "6      17.072834      0.140988         0.734319        0.010804   \n",
            "7      42.186739      0.107281         1.540362        0.009765   \n",
            "8       6.522526      0.073303         0.226876        0.006180   \n",
            "9       3.925706      0.360787         0.167624        0.016944   \n",
            "0     341.380369      9.174063        45.804709        0.937536   \n",
            "1     142.167731      1.526752        48.147009        1.017727   \n",
            "2     174.623852      3.338952        61.577077        1.412944   \n",
            "3     113.562085      3.114741        36.930963        1.102360   \n",
            "4     139.801649      3.301483        47.617057        1.115737   \n",
            "5     330.098959      4.825972        44.005911        1.810392   \n",
            "6     154.864135      2.315874        55.998886        0.867367   \n",
            "7     457.686738     11.019398        40.043981        0.992943   \n",
            "8     154.750089      1.595243        57.015482        1.319314   \n",
            "9     112.292974      3.669661        36.079621        6.403667   \n",
            "\n",
            "  param_classifier__n_estimators param_classifier__max_depth  \\\n",
            "0                            100                           5   \n",
            "1                             50                          20   \n",
            "2                             50                          20   \n",
            "3                             50                          20   \n",
            "4                            250                          10   \n",
            "5                             50                           5   \n",
            "6                            250                           5   \n",
            "7                            250                          20   \n",
            "8                             50                          10   \n",
            "9                             50                           5   \n",
            "0                            NaN                         NaN   \n",
            "1                            NaN                         NaN   \n",
            "2                            NaN                         NaN   \n",
            "3                            NaN                         NaN   \n",
            "4                            NaN                         NaN   \n",
            "5                            NaN                         NaN   \n",
            "6                            NaN                         NaN   \n",
            "7                            NaN                         NaN   \n",
            "8                            NaN                         NaN   \n",
            "9                            NaN                         NaN   \n",
            "\n",
            "  param_classifier__class_weight  \\\n",
            "0                   {0: 1, 1: 5}   \n",
            "1                           None   \n",
            "2                  {0: 1, 1: 25}   \n",
            "3                  {0: 1, 1: 10}   \n",
            "4                   {0: 1, 1: 5}   \n",
            "5                           None   \n",
            "6                  {0: 1, 1: 25}   \n",
            "7                   {0: 1, 1: 5}   \n",
            "8                  {0: 1, 1: 25}   \n",
            "9                   {0: 1, 1: 5}   \n",
            "0                  {0: 1, 1: 25}   \n",
            "1                   {0: 1, 1: 5}   \n",
            "2                  {0: 1, 1: 25}   \n",
            "3                           None   \n",
            "4                           None   \n",
            "5                  {0: 1, 1: 10}   \n",
            "6                   {0: 1, 1: 5}   \n",
            "7                   {0: 1, 1: 5}   \n",
            "8                  {0: 1, 1: 10}   \n",
            "9                           None   \n",
            "\n",
            "                                              params  split0_test_roc_auc  \\\n",
            "0  {'classifier__n_estimators': 100, 'classifier_...             0.834243   \n",
            "1  {'classifier__n_estimators': 50, 'classifier__...             0.851621   \n",
            "2  {'classifier__n_estimators': 50, 'classifier__...             0.811189   \n",
            "3  {'classifier__n_estimators': 50, 'classifier__...             0.833544   \n",
            "4  {'classifier__n_estimators': 250, 'classifier_...             0.847236   \n",
            "5  {'classifier__n_estimators': 50, 'classifier__...             0.831908   \n",
            "6  {'classifier__n_estimators': 250, 'classifier_...             0.828101   \n",
            "7  {'classifier__n_estimators': 250, 'classifier_...             0.852339   \n",
            "8  {'classifier__n_estimators': 50, 'classifier__...             0.801965   \n",
            "9  {'classifier__n_estimators': 50, 'classifier__...             0.830960   \n",
            "0  {'classifier__class_weight': {0: 1, 1: 25}, 'c...             0.819019   \n",
            "1  {'classifier__class_weight': {0: 1, 1: 5}, 'cl...             0.856340   \n",
            "2  {'classifier__class_weight': {0: 1, 1: 25}, 'c...             0.799656   \n",
            "3  {'classifier__class_weight': None, 'classifier...             0.868964   \n",
            "4  {'classifier__class_weight': None, 'classifier...             0.846616   \n",
            "5  {'classifier__class_weight': {0: 1, 1: 10}, 'c...             0.822300   \n",
            "6  {'classifier__class_weight': {0: 1, 1: 5}, 'cl...             0.852676   \n",
            "7  {'classifier__class_weight': {0: 1, 1: 5}, 'cl...             0.812443   \n",
            "8  {'classifier__class_weight': {0: 1, 1: 10}, 'c...             0.838594   \n",
            "9  {'classifier__class_weight': None, 'classifier...             0.865073   \n",
            "\n",
            "   split1_test_roc_auc  ...  rank_test_precision  split0_test_recall  \\\n",
            "0             0.848698  ...                    7            0.967615   \n",
            "1             0.860031  ...                    2            0.575039   \n",
            "2             0.821550  ...                    5            0.794629   \n",
            "3             0.843022  ...                    4            0.609005   \n",
            "4             0.859979  ...                    6            0.892575   \n",
            "5             0.834058  ...                    1            0.390995   \n",
            "6             0.841881  ...                   10            1.000000   \n",
            "7             0.865058  ...                    3            0.541074   \n",
            "8             0.814386  ...                    9            0.990521   \n",
            "9             0.845413  ...                    8            0.970774   \n",
            "0             0.829813  ...                    6            0.691153   \n",
            "1             0.868056  ...                    7            0.930490   \n",
            "2             0.811962  ...                    9            0.991311   \n",
            "3             0.878603  ...                    1            0.619273   \n",
            "4             0.856566  ...                    2            0.556082   \n",
            "5             0.829819  ...                    5            0.673776   \n",
            "6             0.865068  ...                    8            0.947077   \n",
            "7             0.803798  ...                    4            0.602686   \n",
            "8             0.848736  ...                   10            0.990521   \n",
            "9             0.876021  ...                    3            0.607425   \n",
            "\n",
            "   split1_test_recall  split2_test_recall  split3_test_recall  \\\n",
            "0            0.980253            0.984202            0.974743   \n",
            "1            0.571880            0.584518            0.585635   \n",
            "2            0.838073            0.823855            0.822415   \n",
            "3            0.637441            0.634281            0.634570   \n",
            "4            0.912322            0.894155            0.883189   \n",
            "5            0.407583            0.402054            0.393054   \n",
            "6            1.000000            1.000000            1.000000   \n",
            "7            0.558452            0.545814            0.552486   \n",
            "8            0.996051            0.992891            0.992107   \n",
            "9            0.979463            0.973144            0.976322   \n",
            "0            0.703791            0.711690            0.689029   \n",
            "1            0.942338            0.947077            0.927388   \n",
            "2            0.995261            0.996051            0.995264   \n",
            "3            0.627172            0.653239            0.621942   \n",
            "4            0.552923            0.552923            0.519337   \n",
            "5            0.706161            0.715640            0.699290   \n",
            "6            0.956556            0.952607            0.945541   \n",
            "7            0.593997            0.651659            0.598264   \n",
            "8            0.997630            0.996840            0.994475   \n",
            "9            0.624803            0.624013            0.619574   \n",
            "\n",
            "   split4_test_recall  mean_test_recall  std_test_recall  rank_test_recall  \\\n",
            "0            0.966851          0.974733         0.006825                 3   \n",
            "1            0.565904          0.576595         0.007529                 8   \n",
            "2            0.795580          0.814910         0.017075                 6   \n",
            "3            0.623520          0.627763         0.010511                 7   \n",
            "4            0.873717          0.891192         0.012858                 5   \n",
            "5            0.411997          0.401137         0.008106                10   \n",
            "6            1.000000          1.000000         0.000000                 1   \n",
            "7            0.544594          0.548484         0.006206                 9   \n",
            "8            0.994475          0.993209         0.001909                 2   \n",
            "9            0.966851          0.973311         0.004361                 4   \n",
            "0            0.692186          0.697570         0.008732                 5   \n",
            "1            0.938437          0.937146         0.007305                 4   \n",
            "2            0.990529          0.993683         0.002288                 2   \n",
            "3            0.620363          0.628398         0.012713                 7   \n",
            "4            0.529597          0.542172         0.014861                10   \n",
            "5            0.690608          0.697095         0.014260                 6   \n",
            "6            0.949487          0.950254         0.003953                 3   \n",
            "7            0.614049          0.612131         0.020864                 9   \n",
            "8            0.991318          0.994157         0.002851                 1   \n",
            "9            0.610103          0.617183         0.007152                 8   \n",
            "\n",
            "   param_classifier__C  \n",
            "0                  NaN  \n",
            "1                  NaN  \n",
            "2                  NaN  \n",
            "3                  NaN  \n",
            "4                  NaN  \n",
            "5                  NaN  \n",
            "6                  NaN  \n",
            "7                  NaN  \n",
            "8                  NaN  \n",
            "9                  NaN  \n",
            "0                   10  \n",
            "1                  0.1  \n",
            "2                  0.1  \n",
            "3                    1  \n",
            "4                 0.01  \n",
            "5                   10  \n",
            "6                 0.01  \n",
            "7                  100  \n",
            "8                 0.01  \n",
            "9                  0.1  \n",
            "\n",
            "[20 rows x 49 columns]\n"
          ]
        },
        {
          "output_type": "stream",
          "name": "stderr",
          "text": [
            "/usr/local/lib/python3.7/dist-packages/joblib/externals/loky/process_executor.py:705: UserWarning: A worker stopped while some jobs were given to the executor. This can be caused by a too short worker timeout or by a memory leak.\n",
            "  \"timeout or by a memory leak.\", UserWarning\n"
          ]
        },
        {
          "output_type": "stream",
          "name": "stdout",
          "text": [
            "   mean_fit_time  std_fit_time  mean_score_time  std_score_time  \\\n",
            "0       9.556875      2.794269         0.409861        0.119064   \n",
            "1       9.724302      0.154271         0.314526        0.009454   \n",
            "2       9.798051      0.180317         0.337616        0.006561   \n",
            "3       9.534904      0.506828         0.345086        0.002357   \n",
            "4      30.647560      1.162614         1.164202        0.239299   \n",
            "5       4.180030      0.277852         0.167842        0.006017   \n",
            "6      17.072834      0.140988         0.734319        0.010804   \n",
            "7      42.186739      0.107281         1.540362        0.009765   \n",
            "8       6.522526      0.073303         0.226876        0.006180   \n",
            "9       3.925706      0.360787         0.167624        0.016944   \n",
            "0     341.380369      9.174063        45.804709        0.937536   \n",
            "1     142.167731      1.526752        48.147009        1.017727   \n",
            "2     174.623852      3.338952        61.577077        1.412944   \n",
            "3     113.562085      3.114741        36.930963        1.102360   \n",
            "4     139.801649      3.301483        47.617057        1.115737   \n",
            "5     330.098959      4.825972        44.005911        1.810392   \n",
            "6     154.864135      2.315874        55.998886        0.867367   \n",
            "7     457.686738     11.019398        40.043981        0.992943   \n",
            "8     154.750089      1.595243        57.015482        1.319314   \n",
            "9     112.292974      3.669661        36.079621        6.403667   \n",
            "0       1.811592      0.096252         0.041890        0.001269   \n",
            "1       3.730522      0.074878         0.044547        0.001306   \n",
            "2       1.693674      0.031317         0.042389        0.001700   \n",
            "3       1.684346      0.044802         0.040054        0.002917   \n",
            "4       2.298366      0.042543         0.042698        0.001623   \n",
            "5       2.274878      0.034880         0.041043        0.001518   \n",
            "6       3.065338      0.047412         0.041045        0.001239   \n",
            "7       4.669929      0.109947         0.045040        0.000951   \n",
            "8       3.703496      0.177743         0.042914        0.000678   \n",
            "9       2.327935      0.088135         0.038235        0.005373   \n",
            "\n",
            "  param_classifier__n_estimators param_classifier__max_depth  \\\n",
            "0                            100                           5   \n",
            "1                             50                          20   \n",
            "2                             50                          20   \n",
            "3                             50                          20   \n",
            "4                            250                          10   \n",
            "5                             50                           5   \n",
            "6                            250                           5   \n",
            "7                            250                          20   \n",
            "8                             50                          10   \n",
            "9                             50                           5   \n",
            "0                            NaN                         NaN   \n",
            "1                            NaN                         NaN   \n",
            "2                            NaN                         NaN   \n",
            "3                            NaN                         NaN   \n",
            "4                            NaN                         NaN   \n",
            "5                            NaN                         NaN   \n",
            "6                            NaN                         NaN   \n",
            "7                            NaN                         NaN   \n",
            "8                            NaN                         NaN   \n",
            "9                            NaN                         NaN   \n",
            "0                            NaN                           5   \n",
            "1                            NaN                        None   \n",
            "2                            NaN                           5   \n",
            "3                            NaN                           5   \n",
            "4                            NaN                          10   \n",
            "5                            NaN                          10   \n",
            "6                            NaN                        None   \n",
            "7                            NaN                        None   \n",
            "8                            NaN                        None   \n",
            "9                            NaN                          10   \n",
            "\n",
            "  param_classifier__class_weight  \\\n",
            "0                   {0: 1, 1: 5}   \n",
            "1                           None   \n",
            "2                  {0: 1, 1: 25}   \n",
            "3                  {0: 1, 1: 10}   \n",
            "4                   {0: 1, 1: 5}   \n",
            "5                           None   \n",
            "6                  {0: 1, 1: 25}   \n",
            "7                   {0: 1, 1: 5}   \n",
            "8                  {0: 1, 1: 25}   \n",
            "9                   {0: 1, 1: 5}   \n",
            "0                  {0: 1, 1: 25}   \n",
            "1                   {0: 1, 1: 5}   \n",
            "2                  {0: 1, 1: 25}   \n",
            "3                           None   \n",
            "4                           None   \n",
            "5                  {0: 1, 1: 10}   \n",
            "6                   {0: 1, 1: 5}   \n",
            "7                   {0: 1, 1: 5}   \n",
            "8                  {0: 1, 1: 10}   \n",
            "9                           None   \n",
            "0                   {0: 1, 1: 5}   \n",
            "1                  {0: 1, 1: 10}   \n",
            "2                  {0: 1, 1: 10}   \n",
            "3                           None   \n",
            "4                  {0: 1, 1: 10}   \n",
            "5                   {0: 1, 1: 5}   \n",
            "6                   {0: 1, 1: 5}   \n",
            "7                  {0: 1, 1: 25}   \n",
            "8                           None   \n",
            "9                           None   \n",
            "\n",
            "                                              params  split0_test_roc_auc  \\\n",
            "0  {'classifier__n_estimators': 100, 'classifier_...             0.834243   \n",
            "1  {'classifier__n_estimators': 50, 'classifier__...             0.851621   \n",
            "2  {'classifier__n_estimators': 50, 'classifier__...             0.811189   \n",
            "3  {'classifier__n_estimators': 50, 'classifier__...             0.833544   \n",
            "4  {'classifier__n_estimators': 250, 'classifier_...             0.847236   \n",
            "5  {'classifier__n_estimators': 50, 'classifier__...             0.831908   \n",
            "6  {'classifier__n_estimators': 250, 'classifier_...             0.828101   \n",
            "7  {'classifier__n_estimators': 250, 'classifier_...             0.852339   \n",
            "8  {'classifier__n_estimators': 50, 'classifier__...             0.801965   \n",
            "9  {'classifier__n_estimators': 50, 'classifier__...             0.830960   \n",
            "0  {'classifier__class_weight': {0: 1, 1: 25}, 'c...             0.819019   \n",
            "1  {'classifier__class_weight': {0: 1, 1: 5}, 'cl...             0.856340   \n",
            "2  {'classifier__class_weight': {0: 1, 1: 25}, 'c...             0.799656   \n",
            "3  {'classifier__class_weight': None, 'classifier...             0.868964   \n",
            "4  {'classifier__class_weight': None, 'classifier...             0.846616   \n",
            "5  {'classifier__class_weight': {0: 1, 1: 10}, 'c...             0.822300   \n",
            "6  {'classifier__class_weight': {0: 1, 1: 5}, 'cl...             0.852676   \n",
            "7  {'classifier__class_weight': {0: 1, 1: 5}, 'cl...             0.812443   \n",
            "8  {'classifier__class_weight': {0: 1, 1: 10}, 'c...             0.838594   \n",
            "9  {'classifier__class_weight': None, 'classifier...             0.865073   \n",
            "0  {'classifier__min_samples_split': 10, 'classif...             0.808853   \n",
            "1  {'classifier__min_samples_split': 10, 'classif...             0.658825   \n",
            "2  {'classifier__min_samples_split': 10, 'classif...             0.810614   \n",
            "3  {'classifier__min_samples_split': 2, 'classifi...             0.815743   \n",
            "4  {'classifier__min_samples_split': 2, 'classifi...             0.774174   \n",
            "5  {'classifier__min_samples_split': 10, 'classif...             0.757775   \n",
            "6  {'classifier__min_samples_split': 10, 'classif...             0.680961   \n",
            "7  {'classifier__min_samples_split': 5, 'classifi...             0.668805   \n",
            "8  {'classifier__min_samples_split': 10, 'classif...             0.701016   \n",
            "9  {'classifier__min_samples_split': 5, 'classifi...             0.755513   \n",
            "\n",
            "   split1_test_roc_auc  ...  split0_test_recall  split1_test_recall  \\\n",
            "0             0.848698  ...            0.967615            0.980253   \n",
            "1             0.860031  ...            0.575039            0.571880   \n",
            "2             0.821550  ...            0.794629            0.838073   \n",
            "3             0.843022  ...            0.609005            0.637441   \n",
            "4             0.859979  ...            0.892575            0.912322   \n",
            "5             0.834058  ...            0.390995            0.407583   \n",
            "6             0.841881  ...            1.000000            1.000000   \n",
            "7             0.865058  ...            0.541074            0.558452   \n",
            "8             0.814386  ...            0.990521            0.996051   \n",
            "9             0.845413  ...            0.970774            0.979463   \n",
            "0             0.829813  ...            0.691153            0.703791   \n",
            "1             0.868056  ...            0.930490            0.942338   \n",
            "2             0.811962  ...            0.991311            0.995261   \n",
            "3             0.878603  ...            0.619273            0.627172   \n",
            "4             0.856566  ...            0.556082            0.552923   \n",
            "5             0.829819  ...            0.673776            0.706161   \n",
            "6             0.865068  ...            0.947077            0.956556   \n",
            "7             0.803798  ...            0.602686            0.593997   \n",
            "8             0.848736  ...            0.990521            0.997630   \n",
            "9             0.876021  ...            0.607425            0.624803   \n",
            "0             0.814442  ...            0.868878            0.898894   \n",
            "1             0.666256  ...            0.551343            0.565561   \n",
            "2             0.811619  ...            0.938389            0.938389   \n",
            "3             0.814315  ...            0.561611            0.497630   \n",
            "4             0.779815  ...            0.849131            0.875197   \n",
            "5             0.751738  ...            0.784360            0.778041   \n",
            "6             0.675988  ...            0.570300            0.570300   \n",
            "7             0.661222  ...            0.547393            0.537915   \n",
            "8             0.709223  ...            0.545814            0.578199   \n",
            "9             0.768610  ...            0.541864            0.521327   \n",
            "\n",
            "   split2_test_recall  split3_test_recall  split4_test_recall  \\\n",
            "0            0.984202            0.974743            0.966851   \n",
            "1            0.584518            0.585635            0.565904   \n",
            "2            0.823855            0.822415            0.795580   \n",
            "3            0.634281            0.634570            0.623520   \n",
            "4            0.894155            0.883189            0.873717   \n",
            "5            0.402054            0.393054            0.411997   \n",
            "6            1.000000            1.000000            1.000000   \n",
            "7            0.545814            0.552486            0.544594   \n",
            "8            0.992891            0.992107            0.994475   \n",
            "9            0.973144            0.976322            0.966851   \n",
            "0            0.711690            0.689029            0.692186   \n",
            "1            0.947077            0.927388            0.938437   \n",
            "2            0.996051            0.995264            0.990529   \n",
            "3            0.653239            0.621942            0.620363   \n",
            "4            0.552923            0.519337            0.529597   \n",
            "5            0.715640            0.699290            0.690608   \n",
            "6            0.952607            0.945541            0.949487   \n",
            "7            0.651659            0.598264            0.614049   \n",
            "8            0.996840            0.994475            0.991318   \n",
            "9            0.624013            0.619574            0.610103   \n",
            "0            0.896524            0.894238            0.878453   \n",
            "1            0.566351            0.557222            0.553275   \n",
            "2            0.939179            0.913181            0.933702   \n",
            "3            0.502370            0.463299            0.525651   \n",
            "4            0.844392            0.857932            0.850829   \n",
            "5            0.788310            0.772691            0.772691   \n",
            "6            0.598736            0.552486            0.583268   \n",
            "7            0.552133            0.519337            0.509866   \n",
            "8            0.557662            0.574586            0.556433   \n",
            "9            0.570300            0.546172            0.543015   \n",
            "\n",
            "   mean_test_recall  std_test_recall  rank_test_recall  param_classifier__C  \\\n",
            "0          0.974733         0.006825                 3                  NaN   \n",
            "1          0.576595         0.007529                 8                  NaN   \n",
            "2          0.814910         0.017075                 6                  NaN   \n",
            "3          0.627763         0.010511                 7                  NaN   \n",
            "4          0.891192         0.012858                 5                  NaN   \n",
            "5          0.401137         0.008106                10                  NaN   \n",
            "6          1.000000         0.000000                 1                  NaN   \n",
            "7          0.548484         0.006206                 9                  NaN   \n",
            "8          0.993209         0.001909                 2                  NaN   \n",
            "9          0.973311         0.004361                 4                  NaN   \n",
            "0          0.697570         0.008732                 5                   10   \n",
            "1          0.937146         0.007305                 4                  0.1   \n",
            "2          0.993683         0.002288                 2                  0.1   \n",
            "3          0.628398         0.012713                 7                    1   \n",
            "4          0.542172         0.014861                10                 0.01   \n",
            "5          0.697095         0.014260                 6                   10   \n",
            "6          0.950254         0.003953                 3                 0.01   \n",
            "7          0.612131         0.020864                 9                  100   \n",
            "8          0.994157         0.002851                 1                 0.01   \n",
            "9          0.617183         0.007152                 8                  0.1   \n",
            "0          0.887398         0.011707                 2                  NaN   \n",
            "1          0.558750         0.006186                 7                  NaN   \n",
            "2          0.932568         0.009885                 1                  NaN   \n",
            "3          0.510112         0.032560                10                  NaN   \n",
            "4          0.855496         0.010767                 3                  NaN   \n",
            "5          0.779219         0.006256                 4                  NaN   \n",
            "6          0.575018         0.015381                 5                  NaN   \n",
            "7          0.533329         0.016240                 9                  NaN   \n",
            "8          0.562539         0.012093                 6                  NaN   \n",
            "9          0.544536         0.015586                 8                  NaN   \n",
            "\n",
            "   param_classifier__min_samples_split  \n",
            "0                                  NaN  \n",
            "1                                  NaN  \n",
            "2                                  NaN  \n",
            "3                                  NaN  \n",
            "4                                  NaN  \n",
            "5                                  NaN  \n",
            "6                                  NaN  \n",
            "7                                  NaN  \n",
            "8                                  NaN  \n",
            "9                                  NaN  \n",
            "0                                  NaN  \n",
            "1                                  NaN  \n",
            "2                                  NaN  \n",
            "3                                  NaN  \n",
            "4                                  NaN  \n",
            "5                                  NaN  \n",
            "6                                  NaN  \n",
            "7                                  NaN  \n",
            "8                                  NaN  \n",
            "9                                  NaN  \n",
            "0                                   10  \n",
            "1                                   10  \n",
            "2                                   10  \n",
            "3                                    2  \n",
            "4                                    2  \n",
            "5                                   10  \n",
            "6                                   10  \n",
            "7                                    5  \n",
            "8                                   10  \n",
            "9                                    5  \n",
            "\n",
            "[30 rows x 50 columns]\n"
          ]
        }
      ],
      "source": [
        "# Train the grid search model\n",
        "cv_results = pd.DataFrame()\n",
        "\n",
        "for key in params.keys():\n",
        "  over = SMOTE(sampling_strategy=0.1)\n",
        "  under = RandomUnderSampler(sampling_strategy=0.5)\n",
        "  steps = [('over', over), ('under', under), ('classifier',params[key]['classifier'])]\n",
        "  pipeline = Pipeline(steps=steps)\n",
        "  rs = RandomizedSearchCV(pipeline, params[key]['params'], cv=5, n_jobs=-1, scoring=['roc_auc','accuracy','f1','precision','recall'],refit=\"roc_auc\")\n",
        "  rs.fit(X_pca, y_train)\n",
        "  aux = pd.DataFrame(rs.cv_results_)\n",
        "  cv_results = pd.concat([cv_results,aux])\n",
        "  print(cv_results)"
      ]
    },
    {
      "cell_type": "code",
      "execution_count": 13,
      "metadata": {
        "id": "R0CPxPlbFizY",
        "colab": {
          "base_uri": "https://localhost:8080/"
        },
        "outputId": "9a52182d-4114-4d15-c292-c7677eef4ff0"
      },
      "outputs": [
        {
          "output_type": "execute_result",
          "data": {
            "text/plain": [
              "{'classifier__class_weight': {0: 1, 1: 5},\n",
              " 'classifier__max_depth': 5,\n",
              " 'classifier__min_samples_split': 10}"
            ]
          },
          "metadata": {},
          "execution_count": 13
        }
      ],
      "source": [
        "# Best performing model and its corresponding hyperparameters\n",
        "rs.best_params_"
      ]
    },
    {
      "cell_type": "code",
      "execution_count": 14,
      "metadata": {
        "id": "8I9lNxwBFnE1",
        "colab": {
          "base_uri": "https://localhost:8080/"
        },
        "outputId": "201043fb-9462-4665-bbd3-7bc45b68af2d"
      },
      "outputs": [
        {
          "output_type": "execute_result",
          "data": {
            "text/plain": [
              "0.810682761934993"
            ]
          },
          "metadata": {},
          "execution_count": 14
        }
      ],
      "source": [
        "rs.best_score_"
      ]
    },
    {
      "cell_type": "code",
      "execution_count": 15,
      "metadata": {
        "id": "4GDeYk2dFyM3",
        "colab": {
          "base_uri": "https://localhost:8080/"
        },
        "outputId": "50dbd61b-74f8-4093-92cd-9fa20332764e"
      },
      "outputs": [
        {
          "output_type": "execute_result",
          "data": {
            "text/plain": [
              "Pipeline(steps=[('over', SMOTE(sampling_strategy=0.1)),\n",
              "                ('under', RandomUnderSampler(sampling_strategy=0.5)),\n",
              "                ('classifier',\n",
              "                 DecisionTreeClassifier(class_weight={0: 1, 1: 5}, max_depth=5,\n",
              "                                        min_samples_split=10,\n",
              "                                        random_state=42))])"
            ]
          },
          "metadata": {},
          "execution_count": 15
        }
      ],
      "source": [
        "rs.best_estimator_"
      ]
    },
    {
      "cell_type": "markdown",
      "metadata": {
        "id": "SArgx6GTru1e"
      },
      "source": [
        "Test"
      ]
    },
    {
      "cell_type": "code",
      "execution_count": 16,
      "metadata": {
        "id": "9PC4z0W1tg19"
      },
      "outputs": [],
      "source": [
        "X_test = pd.read_pickle('/content/drive/MyDrive/Lab_datos/Patient_Survival/X_test.pkl')\n",
        "y_test = pd.read_pickle('/content/drive/MyDrive/Lab_datos/Patient_Survival/y_test.pkl')"
      ]
    },
    {
      "cell_type": "code",
      "source": [
        "X_test = X_test[X_train.columns]"
      ],
      "metadata": {
        "id": "2S3gN2h-0aMP"
      },
      "execution_count": 28,
      "outputs": []
    },
    {
      "cell_type": "code",
      "source": [
        "X_test"
      ],
      "metadata": {
        "colab": {
          "base_uri": "https://localhost:8080/",
          "height": 602
        },
        "id": "zvrvO67e1Uuz",
        "outputId": "ccc5b39a-f5c4-47b6-e3b9-98079342953c"
      },
      "execution_count": 30,
      "outputs": [
        {
          "output_type": "execute_result",
          "data": {
            "text/plain": [
              "       encounter_id  patient_id  hospital_id   age        bmi  \\\n",
              "47579         92589       96072           99  65.0  27.392860   \n",
              "19702         23100       82556          161  88.0  21.484375   \n",
              "78098         29610      127448          181  78.0  30.119587   \n",
              "67361         97681        3668           19  79.0        NaN   \n",
              "73148         65423       89004           92  83.0  28.966523   \n",
              "...             ...         ...          ...   ...        ...   \n",
              "72344         22960        6146          157  67.0  34.391439   \n",
              "88072        105403      116419          146  84.0  25.294251   \n",
              "12730         42473       16119          169  89.0  21.731676   \n",
              "90571        112818       36166            6  69.0  34.611787   \n",
              "35068         15890       16710           70  82.0  46.973705   \n",
              "\n",
              "       elective_surgery         ethnicity gender  height  \\\n",
              "47579                 0         Caucasian      M  172.70   \n",
              "19702                 0     Other/Unknown      F  160.00   \n",
              "78098                 0         Caucasian      F  165.10   \n",
              "67361                 0         Caucasian      M  152.00   \n",
              "73148                 0         Caucasian      M  182.90   \n",
              "...                 ...               ...    ...     ...   \n",
              "72344                 0         Caucasian      M  180.30   \n",
              "88072                 1         Caucasian      M  188.00   \n",
              "12730                 0  African American      M  177.80   \n",
              "90571                 0         Caucasian      F  170.18   \n",
              "35068                 0         Caucasian      F  152.40   \n",
              "\n",
              "                icu_admit_source  ...  aids cirrhosis diabetes_mellitus  \\\n",
              "47579                      Floor  ...   0.0       0.0               1.0   \n",
              "19702       Accident & Emergency  ...   0.0       0.0               1.0   \n",
              "78098                      Floor  ...   0.0       0.0               0.0   \n",
              "67361       Accident & Emergency  ...   0.0       0.0               0.0   \n",
              "73148                      Floor  ...   0.0       0.0               1.0   \n",
              "...                          ...  ...   ...       ...               ...   \n",
              "72344       Accident & Emergency  ...   0.0       0.0               0.0   \n",
              "88072  Operating Room / Recovery  ...   0.0       0.0               0.0   \n",
              "12730       Accident & Emergency  ...   0.0       0.0               0.0   \n",
              "90571       Accident & Emergency  ...   0.0       0.0               1.0   \n",
              "35068  Operating Room / Recovery  ...   0.0       0.0               0.0   \n",
              "\n",
              "       hepatic_failure  immunosuppression  leukemia  lymphoma  \\\n",
              "47579              0.0                0.0       0.0       0.0   \n",
              "19702              0.0                0.0       0.0       0.0   \n",
              "78098              0.0                0.0       0.0       0.0   \n",
              "67361              0.0                0.0       0.0       0.0   \n",
              "73148              0.0                0.0       0.0       0.0   \n",
              "...                ...                ...       ...       ...   \n",
              "72344              0.0                1.0       0.0       0.0   \n",
              "88072              0.0                0.0       0.0       0.0   \n",
              "12730              0.0                0.0       0.0       0.0   \n",
              "90571              0.0                0.0       0.0       0.0   \n",
              "35068              0.0                0.0       0.0       0.0   \n",
              "\n",
              "       solid_tumor_with_metastasis  apache_3j_bodysystem  apache_2_bodysystem  \n",
              "47579                          0.0        Cardiovascular       Cardiovascular  \n",
              "19702                          0.0      Gastrointestinal     Gastrointestinal  \n",
              "78098                          0.0      Gastrointestinal     Gastrointestinal  \n",
              "67361                          0.0                Trauma               Trauma  \n",
              "73148                          0.0        Cardiovascular       Cardiovascular  \n",
              "...                            ...                   ...                  ...  \n",
              "72344                          0.0  Musculoskeletal/Skin  Undefined Diagnoses  \n",
              "88072                          0.0           Respiratory          Respiratory  \n",
              "12730                          0.0         Genitourinary  Renal/Genitourinary  \n",
              "90571                          0.0        Cardiovascular       Cardiovascular  \n",
              "35068                          0.0           Respiratory          Respiratory  \n",
              "\n",
              "[18343 rows x 83 columns]"
            ],
            "text/html": [
              "\n",
              "  <div id=\"df-cb33c11b-ccda-4bac-9e5c-f765bd5c2652\">\n",
              "    <div class=\"colab-df-container\">\n",
              "      <div>\n",
              "<style scoped>\n",
              "    .dataframe tbody tr th:only-of-type {\n",
              "        vertical-align: middle;\n",
              "    }\n",
              "\n",
              "    .dataframe tbody tr th {\n",
              "        vertical-align: top;\n",
              "    }\n",
              "\n",
              "    .dataframe thead th {\n",
              "        text-align: right;\n",
              "    }\n",
              "</style>\n",
              "<table border=\"1\" class=\"dataframe\">\n",
              "  <thead>\n",
              "    <tr style=\"text-align: right;\">\n",
              "      <th></th>\n",
              "      <th>encounter_id</th>\n",
              "      <th>patient_id</th>\n",
              "      <th>hospital_id</th>\n",
              "      <th>age</th>\n",
              "      <th>bmi</th>\n",
              "      <th>elective_surgery</th>\n",
              "      <th>ethnicity</th>\n",
              "      <th>gender</th>\n",
              "      <th>height</th>\n",
              "      <th>icu_admit_source</th>\n",
              "      <th>...</th>\n",
              "      <th>aids</th>\n",
              "      <th>cirrhosis</th>\n",
              "      <th>diabetes_mellitus</th>\n",
              "      <th>hepatic_failure</th>\n",
              "      <th>immunosuppression</th>\n",
              "      <th>leukemia</th>\n",
              "      <th>lymphoma</th>\n",
              "      <th>solid_tumor_with_metastasis</th>\n",
              "      <th>apache_3j_bodysystem</th>\n",
              "      <th>apache_2_bodysystem</th>\n",
              "    </tr>\n",
              "  </thead>\n",
              "  <tbody>\n",
              "    <tr>\n",
              "      <th>47579</th>\n",
              "      <td>92589</td>\n",
              "      <td>96072</td>\n",
              "      <td>99</td>\n",
              "      <td>65.0</td>\n",
              "      <td>27.392860</td>\n",
              "      <td>0</td>\n",
              "      <td>Caucasian</td>\n",
              "      <td>M</td>\n",
              "      <td>172.70</td>\n",
              "      <td>Floor</td>\n",
              "      <td>...</td>\n",
              "      <td>0.0</td>\n",
              "      <td>0.0</td>\n",
              "      <td>1.0</td>\n",
              "      <td>0.0</td>\n",
              "      <td>0.0</td>\n",
              "      <td>0.0</td>\n",
              "      <td>0.0</td>\n",
              "      <td>0.0</td>\n",
              "      <td>Cardiovascular</td>\n",
              "      <td>Cardiovascular</td>\n",
              "    </tr>\n",
              "    <tr>\n",
              "      <th>19702</th>\n",
              "      <td>23100</td>\n",
              "      <td>82556</td>\n",
              "      <td>161</td>\n",
              "      <td>88.0</td>\n",
              "      <td>21.484375</td>\n",
              "      <td>0</td>\n",
              "      <td>Other/Unknown</td>\n",
              "      <td>F</td>\n",
              "      <td>160.00</td>\n",
              "      <td>Accident &amp; Emergency</td>\n",
              "      <td>...</td>\n",
              "      <td>0.0</td>\n",
              "      <td>0.0</td>\n",
              "      <td>1.0</td>\n",
              "      <td>0.0</td>\n",
              "      <td>0.0</td>\n",
              "      <td>0.0</td>\n",
              "      <td>0.0</td>\n",
              "      <td>0.0</td>\n",
              "      <td>Gastrointestinal</td>\n",
              "      <td>Gastrointestinal</td>\n",
              "    </tr>\n",
              "    <tr>\n",
              "      <th>78098</th>\n",
              "      <td>29610</td>\n",
              "      <td>127448</td>\n",
              "      <td>181</td>\n",
              "      <td>78.0</td>\n",
              "      <td>30.119587</td>\n",
              "      <td>0</td>\n",
              "      <td>Caucasian</td>\n",
              "      <td>F</td>\n",
              "      <td>165.10</td>\n",
              "      <td>Floor</td>\n",
              "      <td>...</td>\n",
              "      <td>0.0</td>\n",
              "      <td>0.0</td>\n",
              "      <td>0.0</td>\n",
              "      <td>0.0</td>\n",
              "      <td>0.0</td>\n",
              "      <td>0.0</td>\n",
              "      <td>0.0</td>\n",
              "      <td>0.0</td>\n",
              "      <td>Gastrointestinal</td>\n",
              "      <td>Gastrointestinal</td>\n",
              "    </tr>\n",
              "    <tr>\n",
              "      <th>67361</th>\n",
              "      <td>97681</td>\n",
              "      <td>3668</td>\n",
              "      <td>19</td>\n",
              "      <td>79.0</td>\n",
              "      <td>NaN</td>\n",
              "      <td>0</td>\n",
              "      <td>Caucasian</td>\n",
              "      <td>M</td>\n",
              "      <td>152.00</td>\n",
              "      <td>Accident &amp; Emergency</td>\n",
              "      <td>...</td>\n",
              "      <td>0.0</td>\n",
              "      <td>0.0</td>\n",
              "      <td>0.0</td>\n",
              "      <td>0.0</td>\n",
              "      <td>0.0</td>\n",
              "      <td>0.0</td>\n",
              "      <td>0.0</td>\n",
              "      <td>0.0</td>\n",
              "      <td>Trauma</td>\n",
              "      <td>Trauma</td>\n",
              "    </tr>\n",
              "    <tr>\n",
              "      <th>73148</th>\n",
              "      <td>65423</td>\n",
              "      <td>89004</td>\n",
              "      <td>92</td>\n",
              "      <td>83.0</td>\n",
              "      <td>28.966523</td>\n",
              "      <td>0</td>\n",
              "      <td>Caucasian</td>\n",
              "      <td>M</td>\n",
              "      <td>182.90</td>\n",
              "      <td>Floor</td>\n",
              "      <td>...</td>\n",
              "      <td>0.0</td>\n",
              "      <td>0.0</td>\n",
              "      <td>1.0</td>\n",
              "      <td>0.0</td>\n",
              "      <td>0.0</td>\n",
              "      <td>0.0</td>\n",
              "      <td>0.0</td>\n",
              "      <td>0.0</td>\n",
              "      <td>Cardiovascular</td>\n",
              "      <td>Cardiovascular</td>\n",
              "    </tr>\n",
              "    <tr>\n",
              "      <th>...</th>\n",
              "      <td>...</td>\n",
              "      <td>...</td>\n",
              "      <td>...</td>\n",
              "      <td>...</td>\n",
              "      <td>...</td>\n",
              "      <td>...</td>\n",
              "      <td>...</td>\n",
              "      <td>...</td>\n",
              "      <td>...</td>\n",
              "      <td>...</td>\n",
              "      <td>...</td>\n",
              "      <td>...</td>\n",
              "      <td>...</td>\n",
              "      <td>...</td>\n",
              "      <td>...</td>\n",
              "      <td>...</td>\n",
              "      <td>...</td>\n",
              "      <td>...</td>\n",
              "      <td>...</td>\n",
              "      <td>...</td>\n",
              "      <td>...</td>\n",
              "    </tr>\n",
              "    <tr>\n",
              "      <th>72344</th>\n",
              "      <td>22960</td>\n",
              "      <td>6146</td>\n",
              "      <td>157</td>\n",
              "      <td>67.0</td>\n",
              "      <td>34.391439</td>\n",
              "      <td>0</td>\n",
              "      <td>Caucasian</td>\n",
              "      <td>M</td>\n",
              "      <td>180.30</td>\n",
              "      <td>Accident &amp; Emergency</td>\n",
              "      <td>...</td>\n",
              "      <td>0.0</td>\n",
              "      <td>0.0</td>\n",
              "      <td>0.0</td>\n",
              "      <td>0.0</td>\n",
              "      <td>1.0</td>\n",
              "      <td>0.0</td>\n",
              "      <td>0.0</td>\n",
              "      <td>0.0</td>\n",
              "      <td>Musculoskeletal/Skin</td>\n",
              "      <td>Undefined Diagnoses</td>\n",
              "    </tr>\n",
              "    <tr>\n",
              "      <th>88072</th>\n",
              "      <td>105403</td>\n",
              "      <td>116419</td>\n",
              "      <td>146</td>\n",
              "      <td>84.0</td>\n",
              "      <td>25.294251</td>\n",
              "      <td>1</td>\n",
              "      <td>Caucasian</td>\n",
              "      <td>M</td>\n",
              "      <td>188.00</td>\n",
              "      <td>Operating Room / Recovery</td>\n",
              "      <td>...</td>\n",
              "      <td>0.0</td>\n",
              "      <td>0.0</td>\n",
              "      <td>0.0</td>\n",
              "      <td>0.0</td>\n",
              "      <td>0.0</td>\n",
              "      <td>0.0</td>\n",
              "      <td>0.0</td>\n",
              "      <td>0.0</td>\n",
              "      <td>Respiratory</td>\n",
              "      <td>Respiratory</td>\n",
              "    </tr>\n",
              "    <tr>\n",
              "      <th>12730</th>\n",
              "      <td>42473</td>\n",
              "      <td>16119</td>\n",
              "      <td>169</td>\n",
              "      <td>89.0</td>\n",
              "      <td>21.731676</td>\n",
              "      <td>0</td>\n",
              "      <td>African American</td>\n",
              "      <td>M</td>\n",
              "      <td>177.80</td>\n",
              "      <td>Accident &amp; Emergency</td>\n",
              "      <td>...</td>\n",
              "      <td>0.0</td>\n",
              "      <td>0.0</td>\n",
              "      <td>0.0</td>\n",
              "      <td>0.0</td>\n",
              "      <td>0.0</td>\n",
              "      <td>0.0</td>\n",
              "      <td>0.0</td>\n",
              "      <td>0.0</td>\n",
              "      <td>Genitourinary</td>\n",
              "      <td>Renal/Genitourinary</td>\n",
              "    </tr>\n",
              "    <tr>\n",
              "      <th>90571</th>\n",
              "      <td>112818</td>\n",
              "      <td>36166</td>\n",
              "      <td>6</td>\n",
              "      <td>69.0</td>\n",
              "      <td>34.611787</td>\n",
              "      <td>0</td>\n",
              "      <td>Caucasian</td>\n",
              "      <td>F</td>\n",
              "      <td>170.18</td>\n",
              "      <td>Accident &amp; Emergency</td>\n",
              "      <td>...</td>\n",
              "      <td>0.0</td>\n",
              "      <td>0.0</td>\n",
              "      <td>1.0</td>\n",
              "      <td>0.0</td>\n",
              "      <td>0.0</td>\n",
              "      <td>0.0</td>\n",
              "      <td>0.0</td>\n",
              "      <td>0.0</td>\n",
              "      <td>Cardiovascular</td>\n",
              "      <td>Cardiovascular</td>\n",
              "    </tr>\n",
              "    <tr>\n",
              "      <th>35068</th>\n",
              "      <td>15890</td>\n",
              "      <td>16710</td>\n",
              "      <td>70</td>\n",
              "      <td>82.0</td>\n",
              "      <td>46.973705</td>\n",
              "      <td>0</td>\n",
              "      <td>Caucasian</td>\n",
              "      <td>F</td>\n",
              "      <td>152.40</td>\n",
              "      <td>Operating Room / Recovery</td>\n",
              "      <td>...</td>\n",
              "      <td>0.0</td>\n",
              "      <td>0.0</td>\n",
              "      <td>0.0</td>\n",
              "      <td>0.0</td>\n",
              "      <td>0.0</td>\n",
              "      <td>0.0</td>\n",
              "      <td>0.0</td>\n",
              "      <td>0.0</td>\n",
              "      <td>Respiratory</td>\n",
              "      <td>Respiratory</td>\n",
              "    </tr>\n",
              "  </tbody>\n",
              "</table>\n",
              "<p>18343 rows × 83 columns</p>\n",
              "</div>\n",
              "      <button class=\"colab-df-convert\" onclick=\"convertToInteractive('df-cb33c11b-ccda-4bac-9e5c-f765bd5c2652')\"\n",
              "              title=\"Convert this dataframe to an interactive table.\"\n",
              "              style=\"display:none;\">\n",
              "        \n",
              "  <svg xmlns=\"http://www.w3.org/2000/svg\" height=\"24px\"viewBox=\"0 0 24 24\"\n",
              "       width=\"24px\">\n",
              "    <path d=\"M0 0h24v24H0V0z\" fill=\"none\"/>\n",
              "    <path d=\"M18.56 5.44l.94 2.06.94-2.06 2.06-.94-2.06-.94-.94-2.06-.94 2.06-2.06.94zm-11 1L8.5 8.5l.94-2.06 2.06-.94-2.06-.94L8.5 2.5l-.94 2.06-2.06.94zm10 10l.94 2.06.94-2.06 2.06-.94-2.06-.94-.94-2.06-.94 2.06-2.06.94z\"/><path d=\"M17.41 7.96l-1.37-1.37c-.4-.4-.92-.59-1.43-.59-.52 0-1.04.2-1.43.59L10.3 9.45l-7.72 7.72c-.78.78-.78 2.05 0 2.83L4 21.41c.39.39.9.59 1.41.59.51 0 1.02-.2 1.41-.59l7.78-7.78 2.81-2.81c.8-.78.8-2.07 0-2.86zM5.41 20L4 18.59l7.72-7.72 1.47 1.35L5.41 20z\"/>\n",
              "  </svg>\n",
              "      </button>\n",
              "      \n",
              "  <style>\n",
              "    .colab-df-container {\n",
              "      display:flex;\n",
              "      flex-wrap:wrap;\n",
              "      gap: 12px;\n",
              "    }\n",
              "\n",
              "    .colab-df-convert {\n",
              "      background-color: #E8F0FE;\n",
              "      border: none;\n",
              "      border-radius: 50%;\n",
              "      cursor: pointer;\n",
              "      display: none;\n",
              "      fill: #1967D2;\n",
              "      height: 32px;\n",
              "      padding: 0 0 0 0;\n",
              "      width: 32px;\n",
              "    }\n",
              "\n",
              "    .colab-df-convert:hover {\n",
              "      background-color: #E2EBFA;\n",
              "      box-shadow: 0px 1px 2px rgba(60, 64, 67, 0.3), 0px 1px 3px 1px rgba(60, 64, 67, 0.15);\n",
              "      fill: #174EA6;\n",
              "    }\n",
              "\n",
              "    [theme=dark] .colab-df-convert {\n",
              "      background-color: #3B4455;\n",
              "      fill: #D2E3FC;\n",
              "    }\n",
              "\n",
              "    [theme=dark] .colab-df-convert:hover {\n",
              "      background-color: #434B5C;\n",
              "      box-shadow: 0px 1px 3px 1px rgba(0, 0, 0, 0.15);\n",
              "      filter: drop-shadow(0px 1px 2px rgba(0, 0, 0, 0.3));\n",
              "      fill: #FFFFFF;\n",
              "    }\n",
              "  </style>\n",
              "\n",
              "      <script>\n",
              "        const buttonEl =\n",
              "          document.querySelector('#df-cb33c11b-ccda-4bac-9e5c-f765bd5c2652 button.colab-df-convert');\n",
              "        buttonEl.style.display =\n",
              "          google.colab.kernel.accessAllowed ? 'block' : 'none';\n",
              "\n",
              "        async function convertToInteractive(key) {\n",
              "          const element = document.querySelector('#df-cb33c11b-ccda-4bac-9e5c-f765bd5c2652');\n",
              "          const dataTable =\n",
              "            await google.colab.kernel.invokeFunction('convertToInteractive',\n",
              "                                                     [key], {});\n",
              "          if (!dataTable) return;\n",
              "\n",
              "          const docLinkHtml = 'Like what you see? Visit the ' +\n",
              "            '<a target=\"_blank\" href=https://colab.research.google.com/notebooks/data_table.ipynb>data table notebook</a>'\n",
              "            + ' to learn more about interactive tables.';\n",
              "          element.innerHTML = '';\n",
              "          dataTable['output_type'] = 'display_data';\n",
              "          await google.colab.output.renderOutput(dataTable, element);\n",
              "          const docLink = document.createElement('div');\n",
              "          docLink.innerHTML = docLinkHtml;\n",
              "          element.appendChild(docLink);\n",
              "        }\n",
              "      </script>\n",
              "    </div>\n",
              "  </div>\n",
              "  "
            ]
          },
          "metadata": {},
          "execution_count": 30
        }
      ]
    },
    {
      "cell_type": "code",
      "execution_count": 34,
      "metadata": {
        "id": "TBOtGPbNI6Pm",
        "colab": {
          "base_uri": "https://localhost:8080/"
        },
        "outputId": "acc28f39-3a1f-4751-bbea-e860741dd665"
      },
      "outputs": [
        {
          "output_type": "stream",
          "name": "stderr",
          "text": [
            "/usr/local/lib/python3.7/dist-packages/sklearn/base.py:451: UserWarning: X does not have valid feature names, but PCA was fitted with feature names\n",
            "  \"X does not have valid feature names, but\"\n"
          ]
        },
        {
          "output_type": "execute_result",
          "data": {
            "text/plain": [
              "0.8515476942514214"
            ]
          },
          "metadata": {},
          "execution_count": 34
        }
      ],
      "source": [
        "from sklearn.metrics import confusion_matrix\n",
        "from sklearn.metrics import precision_score, recall_score\n",
        "\n",
        "final_model = rs.best_estimator_\n",
        "X_test_transformed = full_pipeline.transform(X_test)\n",
        "X_pca_test = pca.transform(X_test_transformed)\n",
        "y_test_predictions = final_model.predict(X_pca_test)\n",
        "confusion_matrix(y_test, y_test_predictions)\n",
        "precision_score(y_test, y_test_predictions)\n",
        "recall_score(y_test, y_test_predictions)"
      ]
    },
    {
      "cell_type": "markdown",
      "source": [
        "Saving Model"
      ],
      "metadata": {
        "id": "GDb6YjKf2p-g"
      }
    },
    {
      "cell_type": "code",
      "source": [
        "import pickle\n",
        "filename = 'finalized_model.sav'\n",
        "with open(filename, 'wb') as f:\n",
        "  pickle.dump(final_model, f)"
      ],
      "metadata": {
        "id": "D2RY_FEC2rCa"
      },
      "execution_count": 35,
      "outputs": []
    },
    {
      "cell_type": "code",
      "execution_count": 36,
      "metadata": {
        "id": "s7LKuINuysTP",
        "colab": {
          "base_uri": "https://localhost:8080/",
          "height": 492
        },
        "outputId": "bb5d3d4a-872d-4978-8188-1909c9e85ad2"
      },
      "outputs": [
        {
          "output_type": "stream",
          "name": "stdout",
          "text": [
            "AUC entrenamiento: 0.8271\n",
            "AUC evaluacion: 0.8187\n"
          ]
        },
        {
          "output_type": "display_data",
          "data": {
            "text/plain": [
              "<Figure size 720x504 with 1 Axes>"
            ],
            "image/png": "[encoded data removed]"
          },
          "metadata": {
            "needs_background": "light"
          }
        }
      ],
      "source": [
        "probas_train = final_model.predict_proba(X_pca)  # probabilidades con datos de entrenamiento\n",
        "                                                # we should look por p(x) in order to understan threshold\n",
        "probas_test = final_model.predict_proba(X_pca_test)\n",
        "\n",
        "fpr_train, tpr_train, thresholds_train = roc_curve(y_train, probas_train[:,1]) # para plotear curva ROC con datos de entrenamiento\n",
        "fpr_test, tpr_test, thresholds_test = roc_curve(y_test, probas_test[:,1]) # para plotear curva ROC con datos de evaluacion\n",
        "auc_train = roc_auc_score(y_train, probas_train[:,1]) #  AUC con datos de entrenamiento\n",
        "auc_test = roc_auc_score(y_test, probas_test[:,1]) #  AUC con datos de evaluación\n",
        "\n",
        "# para plotear ROC (codigo de un notebook anterior)\n",
        "\n",
        "fig, ax = plt.subplots(figsize = (10,7))\n",
        "ax.set_title('Verdaderos positivos vs. falsos positivos')\n",
        "ax.plot(fpr_train,tpr_train, label = \"Entrenamiento\") # graficamos la curva ROC para el set de entrenamiento\n",
        "ax.plot(fpr_test,tpr_test, label = \"Evaluacion\") # graficamos la curva ROC para el set de evaluacion\n",
        "\n",
        "ax.set_xlabel('Tasa de falsos positivos') # Etiqueta del eje x\n",
        "ax.set_ylabel('Tasa de verdaderos positivos') # Etiqueta del eje y\n",
        "\n",
        "plt.legend()\n",
        "\n",
        "print('AUC entrenamiento: {}'.format(round(auc_train,4)))  \n",
        "print('AUC evaluacion: {}'.format(round(auc_test,4)))  \n"
      ]
    },
    {
      "cell_type": "markdown",
      "metadata": {
        "id": "Xt6IiHmcpOGN"
      },
      "source": [
        "Test permutation"
      ]
    },
    {
      "cell_type": "code",
      "execution_count": 37,
      "metadata": {
        "id": "bY36ly-gpQdv",
        "colab": {
          "base_uri": "https://localhost:8080/"
        },
        "outputId": "30a4c081-7e87-4711-e928-be8cf3370497"
      },
      "outputs": [
        {
          "output_type": "stream",
          "name": "stdout",
          "text": [
            "Sin shufflear:\n",
            "0.8101790024156037\n",
            "Modelo nulo (shuffleando):\n",
            "[0.49802988 0.50177967 0.49937362 0.49960956 0.4997338  0.50429131\n",
            " 0.4993837  0.50029134 0.49948194 0.50507116 0.5050701  0.50018346\n",
            " 0.50232317 0.49743361 0.50228041 0.4968217  0.49428644 0.49645124\n",
            " 0.49280808 0.5010121  0.49861618 0.49968068 0.49963527 0.49954255\n",
            " 0.50342177 0.4993055  0.49952282 0.50199358 0.50238338 0.50025282\n",
            " 0.5064726  0.50097401 0.49991811 0.49630757 0.50876036 0.49693573\n",
            " 0.49851647 0.50135349 0.49980151 0.49910709 0.50063529 0.5007884\n",
            " 0.50484306 0.49654495 0.50173378 0.50044372 0.498195   0.50192468\n",
            " 0.49612355 0.49965811 0.5025087  0.50064601 0.50363308 0.49437426\n",
            " 0.49928328 0.5002627  0.49960465 0.49872569 0.49857804 0.49777052\n",
            " 0.5013394  0.50103482 0.49774584 0.49568443 0.49951903 0.50122246\n",
            " 0.49429998 0.49733584 0.50319672 0.49799631 0.49888257 0.49912405\n",
            " 0.50124086 0.50021282 0.49886853 0.49976659 0.4985925  0.49725405\n",
            " 0.50035701 0.49737815 0.49718936 0.50127317 0.50053883 0.5007081\n",
            " 0.50208644 0.50061646 0.49799587 0.50382851 0.4961968  0.49750169\n",
            " 0.50509963 0.5019497  0.50276313 0.49592194 0.50501892 0.50058553\n",
            " 0.50244336 0.49453064 0.49771926 0.49924758]\n",
            "p-valor:\n",
            "0.009900990099009901\n"
          ]
        }
      ],
      "source": [
        "from sklearn.model_selection import permutation_test_score\n",
        "from sklearn.model_selection import StratifiedKFold\n",
        "\n",
        "skf = StratifiedKFold(n_splits=5, shuffle=True) # creamos un objeto de cross-validation\n",
        "\n",
        "AUC, AUC_shuffled, pvalue = permutation_test_score(final_model, X_pca, y_train, scoring=\"roc_auc\", cv=skf, n_permutations=100) # aca aplico la funcion \n",
        "# Notar que la función de arriba recibe como argumentos el clasificador (regLog) y la forma de hacer validación cruzada (skf), \n",
        "# además de los datos y el número de permutaciones que hacemos para construir nuestro modelo al azar.\n",
        "\n",
        "print('Sin shufflear:')\n",
        "print(AUC)\n",
        "print('Modelo nulo (shuffleando):')\n",
        "print(AUC_shuffled)\n",
        "print('p-valor:')\n",
        "print(pvalue)\n",
        "\n"
      ]
    },
    {
      "cell_type": "code",
      "execution_count": 38,
      "metadata": {
        "id": "o8_qlnF2pZ9x",
        "colab": {
          "base_uri": "https://localhost:8080/",
          "height": 296
        },
        "outputId": "edd8ad3c-5041-455c-ecf6-949b9f250588"
      },
      "outputs": [
        {
          "output_type": "execute_result",
          "data": {
            "text/plain": [
              "Text(0, 0.5, 'Probabilidad')"
            ]
          },
          "metadata": {},
          "execution_count": 38
        },
        {
          "output_type": "display_data",
          "data": {
            "text/plain": [
              "<Figure size 432x288 with 1 Axes>"
            ],
            "image/png": "[encoded data removed]"
          },
          "metadata": {
            "needs_background": "light"
          }
        }
      ],
      "source": [
        "fig, ax = plt.subplots()\n",
        "\n",
        "ax.hist(AUC_shuffled, bins=20, density=True) # armo el histograma de valores, normalizado para tener la probabilidad\n",
        "ax.axvline(AUC, ls='--', color='r') # una linea vertical para indicar el AUC sin shufflear (modelo real)\n",
        "ax.set_xlabel(\"AUC\") # nombre de eje x\n",
        "ax.set_ylabel(\"Probabilidad\") # nombre de eje y"
      ]
    },
    {
      "cell_type": "markdown",
      "source": [
        "The model is significantly better than a random one"
      ],
      "metadata": {
        "id": "sI3Fa_fvAQL7"
      }
    },
    {
      "cell_type": "markdown",
      "metadata": {
        "id": "ombKQtd5zODb"
      },
      "source": [
        "Machine learning explainability"
      ]
    },
    {
      "cell_type": "code",
      "execution_count": 42,
      "metadata": {
        "id": "jUHjAEUPvcPH",
        "colab": {
          "base_uri": "https://localhost:8080/"
        },
        "outputId": "6c05a1d0-41d5-4ba8-9441-b9e90491056c"
      },
      "outputs": [
        {
          "output_type": "execute_result",
          "data": {
            "text/plain": [
              "array([0.14146548, 0.6244963 , 0.        , 0.        , 0.13577764,\n",
              "       0.        , 0.        , 0.        , 0.        , 0.        ,\n",
              "       0.        , 0.        , 0.        , 0.        , 0.        ,\n",
              "       0.        , 0.        , 0.        , 0.05032955, 0.        ,\n",
              "       0.01037452, 0.02405501, 0.        , 0.00917059, 0.        ,\n",
              "       0.        , 0.        , 0.        , 0.        , 0.        ,\n",
              "       0.        , 0.        , 0.00065446, 0.        , 0.        ,\n",
              "       0.        , 0.        , 0.        , 0.        , 0.        ,\n",
              "       0.00274927, 0.        , 0.        , 0.        , 0.        ,\n",
              "       0.        , 0.        , 0.        , 0.        , 0.        ,\n",
              "       0.00092718, 0.        , 0.        , 0.        , 0.        ,\n",
              "       0.        , 0.        , 0.        , 0.        , 0.        ])"
            ]
          },
          "metadata": {},
          "execution_count": 42
        }
      ],
      "source": [
        "feature_importances = rs.best_estimator_._final_estimator.feature_importances_\n",
        "feature_importances"
      ]
    },
    {
      "cell_type": "code",
      "execution_count": 43,
      "metadata": {
        "id": "sw5_Sn3vv2Tg",
        "colab": {
          "base_uri": "https://localhost:8080/"
        },
        "outputId": "52c1c404-560d-472d-f5b2-900b5f26753d"
      },
      "outputs": [
        {
          "output_type": "execute_result",
          "data": {
            "text/plain": [
              "[(0.6244963039300198, 'bmi'),\n",
              " (0.14146547924249617, 'age'),\n",
              " (0.1357776362732967, 'icu_id'),\n",
              " (0.05032955378014963, 'resprate_apache'),\n",
              " (0.024055009329529833, 'd1_diasbp_max')]"
            ]
          },
          "metadata": {},
          "execution_count": 43
        }
      ],
      "source": [
        "attributes = cols\n",
        "k = 5\n",
        "def indices_of_top_k(arr, k):\n",
        "    return np.sort(np.argpartition(np.array(arr), -k)[-k:])\n",
        "top_k_feature_indices = indices_of_top_k(feature_importances, k)\n",
        "np.array(attributes)[top_k_feature_indices]\n",
        "sorted(zip(feature_importances, attributes), reverse=True)[:k]\n",
        "\n",
        "#We can see that the most important features were bmi, age, icu_id, resprate in apache and d1 diasbp max."
      ]
    }
  ],
  "metadata": {
    "accelerator": "GPU",
    "colab": {
      "name": "FE + Models.ipynb",
      "provenance": []
    },
    "gpuClass": "standard",
    "kernelspec": {
      "display_name": "Python 3",
      "name": "python3"
    },
    "language_info": {
      "name": "python"
    }
  },
  "nbformat": 4,
  "nbformat_minor": 0
}